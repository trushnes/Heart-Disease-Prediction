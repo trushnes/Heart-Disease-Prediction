{
  "nbformat": 4,
  "nbformat_minor": 0,
  "metadata": {
    "kernelspec": {
      "display_name": "Python 3",
      "language": "python",
      "name": "python3"
    },
    "language_info": {
      "codemirror_mode": {
        "name": "ipython",
        "version": 3
      },
      "file_extension": ".py",
      "mimetype": "text/x-python",
      "name": "python",
      "nbconvert_exporter": "python",
      "pygments_lexer": "ipython3",
      "version": "3.6.8"
    },
    "colab": {
      "name": "EnsembleModels_VotingClassifier.ipynb",
      "provenance": [],
      "collapsed_sections": [
        "E0HIi9Bnge-1"
      ]
    }
  },
  "cells": [
    {
      "cell_type": "markdown",
      "metadata": {
        "id": "QF0Td4T6wUW7"
      },
      "source": [
        "# Necessary Imports\r\n",
        "\r\n"
      ]
    },
    {
      "cell_type": "code",
      "metadata": {
        "id": "PFK76vDkgtgl"
      },
      "source": [
        "#import necessary libraries\r\n",
        "import pandas as pd\r\n",
        "import numpy as np\r\n",
        "import pandas as pd\r\n",
        "import numpy as np\r\n",
        "\r\n",
        "from sklearn.pipeline import Pipeline\r\n",
        "from sklearn.ensemble import RandomForestClassifier, AdaBoostClassifier, BaggingClassifier\r\n",
        "from sklearn.tree import DecisionTreeClassifier\r\n",
        "from sklearn.preprocessing import StandardScaler\r\n",
        "from sklearn.model_selection import GridSearchCV\r\n",
        "from sklearn.metrics import accuracy_score\r\n",
        "from sklearn.tree import export_graphviz\r\n",
        "\r\n",
        "import matplotlib.pyplot as plt\r\n",
        "import seaborn as sns\r\n",
        "\r\n",
        "from mlxtend.plotting import plot_decision_regions"
      ],
      "execution_count": null,
      "outputs": []
    },
    {
      "cell_type": "markdown",
      "metadata": {
        "id": "Y2OwznQxxEZU"
      },
      "source": [
        "# Dataset\r\n",
        "\r\n",
        "The data is taken from the UCI Machine Learning Repository. A csv file is available in the /raw-data directory and can also be downloaded from the source: https://archive.ics.uci.edu/ml/datasets/Heart+Disease . While there are multiple datasets available, we have use the one processed by the Cleveland Clinic Foundation. "
      ]
    },
    {
      "cell_type": "code",
      "metadata": {
        "colab": {
          "base_uri": "https://localhost:8080/"
        },
        "id": "PPnqxTaOW3Eh",
        "outputId": "c1d7c745-f112-4c47-f26a-76dd09b48da2"
      },
      "source": [
        "from google.colab import drive\r\n",
        "drive.mount(\"/content/drive\")"
      ],
      "execution_count": null,
      "outputs": [
        {
          "output_type": "stream",
          "text": [
            "Drive already mounted at /content/drive; to attempt to forcibly remount, call drive.mount(\"/content/drive\", force_remount=True).\n"
          ],
          "name": "stdout"
        }
      ]
    },
    {
      "cell_type": "code",
      "metadata": {
        "id": "4lTiij6wgtjw"
      },
      "source": [
        "# step1: import raw data into a pandas dataframe\r\n",
        "rawdf = pd.read_csv(\"/content/sample_data/cleve_heart_data.csv\")\r\n",
        "data = rawdf.copy()"
      ],
      "execution_count": null,
      "outputs": []
    },
    {
      "cell_type": "code",
      "metadata": {
        "colab": {
          "base_uri": "https://localhost:8080/",
          "height": 195
        },
        "id": "GqnyD4mLgtmK",
        "outputId": "4acaa1ca-801a-4cb3-c450-9436cc89fa2a"
      },
      "source": [
        "#Step2: Explore its contents\r\n",
        "data.head()"
      ],
      "execution_count": null,
      "outputs": [
        {
          "output_type": "execute_result",
          "data": {
            "text/html": [
              "<div>\n",
              "<style scoped>\n",
              "    .dataframe tbody tr th:only-of-type {\n",
              "        vertical-align: middle;\n",
              "    }\n",
              "\n",
              "    .dataframe tbody tr th {\n",
              "        vertical-align: top;\n",
              "    }\n",
              "\n",
              "    .dataframe thead th {\n",
              "        text-align: right;\n",
              "    }\n",
              "</style>\n",
              "<table border=\"1\" class=\"dataframe\">\n",
              "  <thead>\n",
              "    <tr style=\"text-align: right;\">\n",
              "      <th></th>\n",
              "      <th>age</th>\n",
              "      <th>sex</th>\n",
              "      <th>cp</th>\n",
              "      <th>trestbps</th>\n",
              "      <th>chol</th>\n",
              "      <th>fbs</th>\n",
              "      <th>restecg</th>\n",
              "      <th>thalach</th>\n",
              "      <th>exang</th>\n",
              "      <th>oldpeak</th>\n",
              "      <th>slope</th>\n",
              "      <th>ca</th>\n",
              "      <th>thal</th>\n",
              "      <th>num</th>\n",
              "    </tr>\n",
              "  </thead>\n",
              "  <tbody>\n",
              "    <tr>\n",
              "      <th>0</th>\n",
              "      <td>63.0</td>\n",
              "      <td>1.0</td>\n",
              "      <td>1.0</td>\n",
              "      <td>145.0</td>\n",
              "      <td>233.0</td>\n",
              "      <td>1.0</td>\n",
              "      <td>2.0</td>\n",
              "      <td>150.0</td>\n",
              "      <td>0.0</td>\n",
              "      <td>2.3</td>\n",
              "      <td>3.0</td>\n",
              "      <td>0.0</td>\n",
              "      <td>6.0</td>\n",
              "      <td>0</td>\n",
              "    </tr>\n",
              "    <tr>\n",
              "      <th>1</th>\n",
              "      <td>67.0</td>\n",
              "      <td>1.0</td>\n",
              "      <td>4.0</td>\n",
              "      <td>160.0</td>\n",
              "      <td>286.0</td>\n",
              "      <td>0.0</td>\n",
              "      <td>2.0</td>\n",
              "      <td>108.0</td>\n",
              "      <td>1.0</td>\n",
              "      <td>1.5</td>\n",
              "      <td>2.0</td>\n",
              "      <td>3.0</td>\n",
              "      <td>3.0</td>\n",
              "      <td>2</td>\n",
              "    </tr>\n",
              "    <tr>\n",
              "      <th>2</th>\n",
              "      <td>67.0</td>\n",
              "      <td>1.0</td>\n",
              "      <td>4.0</td>\n",
              "      <td>120.0</td>\n",
              "      <td>229.0</td>\n",
              "      <td>0.0</td>\n",
              "      <td>2.0</td>\n",
              "      <td>129.0</td>\n",
              "      <td>1.0</td>\n",
              "      <td>2.6</td>\n",
              "      <td>2.0</td>\n",
              "      <td>2.0</td>\n",
              "      <td>7.0</td>\n",
              "      <td>1</td>\n",
              "    </tr>\n",
              "    <tr>\n",
              "      <th>3</th>\n",
              "      <td>37.0</td>\n",
              "      <td>1.0</td>\n",
              "      <td>3.0</td>\n",
              "      <td>130.0</td>\n",
              "      <td>250.0</td>\n",
              "      <td>0.0</td>\n",
              "      <td>0.0</td>\n",
              "      <td>187.0</td>\n",
              "      <td>0.0</td>\n",
              "      <td>3.5</td>\n",
              "      <td>3.0</td>\n",
              "      <td>0.0</td>\n",
              "      <td>3.0</td>\n",
              "      <td>0</td>\n",
              "    </tr>\n",
              "    <tr>\n",
              "      <th>4</th>\n",
              "      <td>41.0</td>\n",
              "      <td>0.0</td>\n",
              "      <td>2.0</td>\n",
              "      <td>130.0</td>\n",
              "      <td>204.0</td>\n",
              "      <td>0.0</td>\n",
              "      <td>2.0</td>\n",
              "      <td>172.0</td>\n",
              "      <td>0.0</td>\n",
              "      <td>1.4</td>\n",
              "      <td>1.0</td>\n",
              "      <td>0.0</td>\n",
              "      <td>3.0</td>\n",
              "      <td>0</td>\n",
              "    </tr>\n",
              "  </tbody>\n",
              "</table>\n",
              "</div>"
            ],
            "text/plain": [
              "    age  sex   cp  trestbps   chol  fbs  ...  exang  oldpeak  slope   ca  thal num\n",
              "0  63.0  1.0  1.0     145.0  233.0  1.0  ...    0.0      2.3    3.0  0.0   6.0   0\n",
              "1  67.0  1.0  4.0     160.0  286.0  0.0  ...    1.0      1.5    2.0  3.0   3.0   2\n",
              "2  67.0  1.0  4.0     120.0  229.0  0.0  ...    1.0      2.6    2.0  2.0   7.0   1\n",
              "3  37.0  1.0  3.0     130.0  250.0  0.0  ...    0.0      3.5    3.0  0.0   3.0   0\n",
              "4  41.0  0.0  2.0     130.0  204.0  0.0  ...    0.0      1.4    1.0  0.0   3.0   0\n",
              "\n",
              "[5 rows x 14 columns]"
            ]
          },
          "metadata": {
            "tags": []
          },
          "execution_count": 23
        }
      ]
    },
    {
      "cell_type": "code",
      "metadata": {
        "colab": {
          "base_uri": "https://localhost:8080/"
        },
        "id": "BRgVg8-8gtpA",
        "outputId": "d0513e3d-ad2e-4439-aed9-722fed3de713"
      },
      "source": [
        "data.shape"
      ],
      "execution_count": null,
      "outputs": [
        {
          "output_type": "execute_result",
          "data": {
            "text/plain": [
              "(303, 14)"
            ]
          },
          "metadata": {
            "tags": []
          },
          "execution_count": 24
        }
      ]
    },
    {
      "cell_type": "markdown",
      "metadata": {
        "id": "GbrAK-7nyE6f"
      },
      "source": [
        "# 2.Data Pre-processing"
      ]
    },
    {
      "cell_type": "code",
      "metadata": {
        "colab": {
          "base_uri": "https://localhost:8080/"
        },
        "id": "DRACw1-0yr5H",
        "outputId": "575f99c1-be12-4f9a-d989-5f4f161667bc"
      },
      "source": [
        "data.info()"
      ],
      "execution_count": null,
      "outputs": [
        {
          "output_type": "stream",
          "text": [
            "<class 'pandas.core.frame.DataFrame'>\n",
            "RangeIndex: 303 entries, 0 to 302\n",
            "Data columns (total 14 columns):\n",
            " #   Column    Non-Null Count  Dtype  \n",
            "---  ------    --------------  -----  \n",
            " 0   age       303 non-null    float64\n",
            " 1   sex       303 non-null    float64\n",
            " 2   cp        303 non-null    float64\n",
            " 3   trestbps  303 non-null    float64\n",
            " 4   chol      303 non-null    float64\n",
            " 5   fbs       303 non-null    float64\n",
            " 6   restecg   303 non-null    float64\n",
            " 7   thalach   303 non-null    float64\n",
            " 8   exang     303 non-null    float64\n",
            " 9   oldpeak   303 non-null    float64\n",
            " 10  slope     303 non-null    float64\n",
            " 11  ca        303 non-null    object \n",
            " 12  thal      303 non-null    object \n",
            " 13  num       303 non-null    int64  \n",
            "dtypes: float64(11), int64(1), object(2)\n",
            "memory usage: 33.3+ KB\n"
          ],
          "name": "stdout"
        }
      ]
    },
    {
      "cell_type": "code",
      "metadata": {
        "colab": {
          "base_uri": "https://localhost:8080/"
        },
        "id": "kPHgr7JXgtsT",
        "outputId": "6390894b-6fce-401e-c1ce-96e4627f29cb"
      },
      "source": [
        "#Check object datatypes\r\n",
        "data.dtypes"
      ],
      "execution_count": null,
      "outputs": [
        {
          "output_type": "execute_result",
          "data": {
            "text/plain": [
              "age         float64\n",
              "sex         float64\n",
              "cp          float64\n",
              "trestbps    float64\n",
              "chol        float64\n",
              "fbs         float64\n",
              "restecg     float64\n",
              "thalach     float64\n",
              "exang       float64\n",
              "oldpeak     float64\n",
              "slope       float64\n",
              "ca           object\n",
              "thal         object\n",
              "num           int64\n",
              "dtype: object"
            ]
          },
          "metadata": {
            "tags": []
          },
          "execution_count": 26
        }
      ]
    },
    {
      "cell_type": "code",
      "metadata": {
        "colab": {
          "base_uri": "https://localhost:8080/"
        },
        "id": "x5cygCoAgtv4",
        "outputId": "9839b698-77e5-4e4e-ce67-7e143d62fa05"
      },
      "source": [
        "#Step 3: Check for missing values\r\n",
        "data.isnull().values.any()"
      ],
      "execution_count": null,
      "outputs": [
        {
          "output_type": "execute_result",
          "data": {
            "text/plain": [
              "False"
            ]
          },
          "metadata": {
            "tags": []
          },
          "execution_count": 27
        }
      ]
    },
    {
      "cell_type": "code",
      "metadata": {
        "colab": {
          "base_uri": "https://localhost:8080/"
        },
        "id": "IQOZ7bP9gtzu",
        "outputId": "b8c44ff3-6796-4a4b-de6f-32f82eea7f97"
      },
      "source": [
        "#Great. No missing values to deal with. \r\n",
        "#Check values of response\r\n",
        "data[\"num\"].unique()"
      ],
      "execution_count": null,
      "outputs": [
        {
          "output_type": "execute_result",
          "data": {
            "text/plain": [
              "array([0, 2, 1, 3, 4])"
            ]
          },
          "metadata": {
            "tags": []
          },
          "execution_count": 28
        }
      ]
    },
    {
      "cell_type": "code",
      "metadata": {
        "id": "LstPiZAEgt17"
      },
      "source": [
        "#Step 4: Convert response variable to bindary values i.e. make all num values >0 to 1\r\n",
        "data.loc[data.num>0,[\"num\"]] = 1"
      ],
      "execution_count": null,
      "outputs": []
    },
    {
      "cell_type": "code",
      "metadata": {
        "colab": {
          "base_uri": "https://localhost:8080/"
        },
        "id": "-_ndYGaFgt5g",
        "outputId": "8b813aeb-5db3-4b5e-8194-4f9089b38eb4"
      },
      "source": [
        "data[\"num\"].unique()"
      ],
      "execution_count": null,
      "outputs": [
        {
          "output_type": "execute_result",
          "data": {
            "text/plain": [
              "array([0, 1])"
            ]
          },
          "metadata": {
            "tags": []
          },
          "execution_count": 30
        }
      ]
    },
    {
      "cell_type": "code",
      "metadata": {
        "id": "nLSnjZARhdPC"
      },
      "source": [
        "#Step 5 & 6: Divide into train and test dataframes & Drop all columns except thalach and chol\r\n",
        "\r\n",
        "\r\n",
        "#Setting a random seed ensures that the splits are reproducible\r\n",
        "np.random.seed(143)\r\n",
        "\r\n",
        "msk = np.random.rand(len(data)) < 0.75\r\n",
        "train = data[msk][[\"thalach\", \"chol\", \"num\"]]\r\n",
        "test = data[~msk][[\"thalach\", \"chol\", \"num\"]]"
      ],
      "execution_count": null,
      "outputs": []
    },
    {
      "cell_type": "code",
      "metadata": {
        "colab": {
          "base_uri": "https://localhost:8080/"
        },
        "id": "R80TlTr9hdRU",
        "outputId": "e0298ef5-6f31-48c2-e568-c94a11691ed0"
      },
      "source": [
        "#Check how the split looks\r\n",
        "train.shape, test.shape"
      ],
      "execution_count": null,
      "outputs": [
        {
          "output_type": "execute_result",
          "data": {
            "text/plain": [
              "((228, 3), (75, 3))"
            ]
          },
          "metadata": {
            "tags": []
          },
          "execution_count": 32
        }
      ]
    },
    {
      "cell_type": "code",
      "metadata": {
        "id": "n0z-mE5NhdTe"
      },
      "source": [
        "#write train and test dataframes to csv files without index columns\r\n",
        "train.to_csv(\"train.csv\", index = False)\r\n",
        "test.to_csv(\"test.csv\", index = False)"
      ],
      "execution_count": null,
      "outputs": []
    },
    {
      "cell_type": "code",
      "metadata": {
        "id": "gnhhp4Z_ge-G"
      },
      "source": [
        "#Read train and test datasets\n",
        "traindf = pd.read_csv(\"train.csv\")\n",
        "testdf = pd.read_csv(\"test.csv\")"
      ],
      "execution_count": null,
      "outputs": []
    },
    {
      "cell_type": "code",
      "metadata": {
        "colab": {
          "base_uri": "https://localhost:8080/",
          "height": 195
        },
        "id": "5HLG_VgWge-I",
        "outputId": "72a0d222-99af-48b7-f015-34d564dfed23"
      },
      "source": [
        "#Take a look at the contents of traindf\n",
        "traindf.head()"
      ],
      "execution_count": null,
      "outputs": [
        {
          "output_type": "execute_result",
          "data": {
            "text/html": [
              "<div>\n",
              "<style scoped>\n",
              "    .dataframe tbody tr th:only-of-type {\n",
              "        vertical-align: middle;\n",
              "    }\n",
              "\n",
              "    .dataframe tbody tr th {\n",
              "        vertical-align: top;\n",
              "    }\n",
              "\n",
              "    .dataframe thead th {\n",
              "        text-align: right;\n",
              "    }\n",
              "</style>\n",
              "<table border=\"1\" class=\"dataframe\">\n",
              "  <thead>\n",
              "    <tr style=\"text-align: right;\">\n",
              "      <th></th>\n",
              "      <th>thalach</th>\n",
              "      <th>chol</th>\n",
              "      <th>num</th>\n",
              "    </tr>\n",
              "  </thead>\n",
              "  <tbody>\n",
              "    <tr>\n",
              "      <th>0</th>\n",
              "      <td>150.0</td>\n",
              "      <td>233.0</td>\n",
              "      <td>0</td>\n",
              "    </tr>\n",
              "    <tr>\n",
              "      <th>1</th>\n",
              "      <td>108.0</td>\n",
              "      <td>286.0</td>\n",
              "      <td>1</td>\n",
              "    </tr>\n",
              "    <tr>\n",
              "      <th>2</th>\n",
              "      <td>129.0</td>\n",
              "      <td>229.0</td>\n",
              "      <td>1</td>\n",
              "    </tr>\n",
              "    <tr>\n",
              "      <th>3</th>\n",
              "      <td>187.0</td>\n",
              "      <td>250.0</td>\n",
              "      <td>0</td>\n",
              "    </tr>\n",
              "    <tr>\n",
              "      <th>4</th>\n",
              "      <td>172.0</td>\n",
              "      <td>204.0</td>\n",
              "      <td>0</td>\n",
              "    </tr>\n",
              "  </tbody>\n",
              "</table>\n",
              "</div>"
            ],
            "text/plain": [
              "   thalach   chol  num\n",
              "0    150.0  233.0    0\n",
              "1    108.0  286.0    1\n",
              "2    129.0  229.0    1\n",
              "3    187.0  250.0    0\n",
              "4    172.0  204.0    0"
            ]
          },
          "metadata": {
            "tags": []
          },
          "execution_count": 35
        }
      ]
    },
    {
      "cell_type": "code",
      "metadata": {
        "colab": {
          "base_uri": "https://localhost:8080/"
        },
        "id": "oY2-Z0Bige-M",
        "outputId": "df21fa53-8495-4fc7-db40-d4eb9e379f97"
      },
      "source": [
        "traindf.dtypes"
      ],
      "execution_count": null,
      "outputs": [
        {
          "output_type": "execute_result",
          "data": {
            "text/plain": [
              "thalach    float64\n",
              "chol       float64\n",
              "num          int64\n",
              "dtype: object"
            ]
          },
          "metadata": {
            "tags": []
          },
          "execution_count": 36
        }
      ]
    },
    {
      "cell_type": "code",
      "metadata": {
        "id": "EkugWJi2ge-O"
      },
      "source": [
        "#Convert train and test dataframes into X,y numpy arrays\n",
        "X_train = traindf.values[:,:-1]\n",
        "y_train = traindf.values[:,-1]\n",
        "\n",
        "X_test = testdf.values[:,:-1]\n",
        "y_test = testdf.values[:,-1]"
      ],
      "execution_count": null,
      "outputs": []
    },
    {
      "cell_type": "code",
      "metadata": {
        "colab": {
          "base_uri": "https://localhost:8080/"
        },
        "id": "ZQk3bNTSge-Q",
        "outputId": "383a283a-fb20-4351-9182-cfb8f1992fc7"
      },
      "source": [
        "X_train.shape"
      ],
      "execution_count": null,
      "outputs": [
        {
          "output_type": "execute_result",
          "data": {
            "text/plain": [
              "(228, 2)"
            ]
          },
          "metadata": {
            "tags": []
          },
          "execution_count": 38
        }
      ]
    },
    {
      "cell_type": "code",
      "metadata": {
        "id": "vI8cSzkFge-Q",
        "colab": {
          "base_uri": "https://localhost:8080/",
          "height": 285
        },
        "outputId": "243c7dc3-3155-45f5-9357-60b7b0952291"
      },
      "source": [
        "#Visualize training data on a scatter plot\n",
        "sns.set(style='darkgrid')\n",
        "plt.scatter(X_train[y_train==0,0],X_train[y_train==0,1], c='skyblue', marker= 's', edgecolors='k', alpha =0.9, label = '0-normal')\n",
        "plt.scatter(X_train[y_train==1,0],X_train[y_train==1,1], c='darkorange', marker= '^', edgecolors='k', alpha =0.9, label = '1-diseased')\n",
        "\n",
        "plt.legend()\n",
        "plt.xlabel(\"thalach - max heart rate\")\n",
        "plt.ylabel(\"chol - serum cholesterol\")\n",
        "plt.savefig(\"/content/sample_data/eda.png\")\n",
        "plt.show()"
      ],
      "execution_count": null,
      "outputs": [
        {
          "output_type": "display_data",
          "data": {
            "image/png": "[encoded data removed]",
            "text/plain": [
              "<Figure size 432x288 with 1 Axes>"
            ]
          },
          "metadata": {
            "tags": []
          }
        }
      ]
    },
    {
      "cell_type": "code",
      "metadata": {
        "colab": {
          "base_uri": "https://localhost:8080/",
          "height": 106
        },
        "id": "RXWiiWJLge-V",
        "outputId": "6328c88b-dbc0-45d0-87c1-1c2e68582f3f"
      },
      "source": [
        "#Plot correlation plot\n",
        "traindf[[\"thalach\",\"chol\"]].corr(method = \"pearson\")"
      ],
      "execution_count": null,
      "outputs": [
        {
          "output_type": "execute_result",
          "data": {
            "text/html": [
              "<div>\n",
              "<style scoped>\n",
              "    .dataframe tbody tr th:only-of-type {\n",
              "        vertical-align: middle;\n",
              "    }\n",
              "\n",
              "    .dataframe tbody tr th {\n",
              "        vertical-align: top;\n",
              "    }\n",
              "\n",
              "    .dataframe thead th {\n",
              "        text-align: right;\n",
              "    }\n",
              "</style>\n",
              "<table border=\"1\" class=\"dataframe\">\n",
              "  <thead>\n",
              "    <tr style=\"text-align: right;\">\n",
              "      <th></th>\n",
              "      <th>thalach</th>\n",
              "      <th>chol</th>\n",
              "    </tr>\n",
              "  </thead>\n",
              "  <tbody>\n",
              "    <tr>\n",
              "      <th>thalach</th>\n",
              "      <td>1.000000</td>\n",
              "      <td>-0.012114</td>\n",
              "    </tr>\n",
              "    <tr>\n",
              "      <th>chol</th>\n",
              "      <td>-0.012114</td>\n",
              "      <td>1.000000</td>\n",
              "    </tr>\n",
              "  </tbody>\n",
              "</table>\n",
              "</div>"
            ],
            "text/plain": [
              "          thalach      chol\n",
              "thalach  1.000000 -0.012114\n",
              "chol    -0.012114  1.000000"
            ]
          },
          "metadata": {
            "tags": []
          },
          "execution_count": 40
        }
      ]
    },
    {
      "cell_type": "markdown",
      "metadata": {
        "id": "fWpwH_a1ge-W"
      },
      "source": [
        "- The Pearson coefficients indicate that the predictors are not linearly correlated."
      ]
    },
    {
      "cell_type": "code",
      "metadata": {
        "colab": {
          "base_uri": "https://localhost:8080/",
          "height": 285
        },
        "id": "N4XYopblge-X",
        "outputId": "ae349f27-548b-4d3f-854d-0fa7bf303399"
      },
      "source": [
        "#Check whether the training set is balanced\n",
        "unique_classes,counts = np.unique(y_train,return_counts = True)\n",
        "class_names = [\"Normal\",\"Diseased\"]\n",
        "\n",
        "sns.set(style='darkgrid')\n",
        "plt.bar(class_names, counts, width=0.2, color=['steelblue','sandybrown'])\n",
        "plt.show()\n",
        "\n",
        "print(\"Proportion of diseased cases: {}\".format(round(counts[1]/len(y_train),2)))"
      ],
      "execution_count": null,
      "outputs": [
        {
          "output_type": "display_data",
          "data": {
            "image/png": "[encoded data removed]",
            "text/plain": [
              "<Figure size 432x288 with 1 Axes>"
            ]
          },
          "metadata": {
            "tags": []
          }
        },
        {
          "output_type": "stream",
          "text": [
            "Proportion of diseased cases: 0.46\n"
          ],
          "name": "stdout"
        }
      ]
    },
    {
      "cell_type": "markdown",
      "metadata": {
        "id": "QI0ydQTMge-l"
      },
      "source": [
        "In this case, we define the metric for model performance as classification accuracy on the test set. Let us first build functions for measuring performance and to visualize decision boundary."
      ]
    },
    {
      "cell_type": "code",
      "metadata": {
        "id": "SycqlnB4ge-l"
      },
      "source": [
        "#Function to get test accuracy\n",
        "def accuracy(X, y, model):\n",
        "    return round(accuracy_score(y,model.predict(X)),2)"
      ],
      "execution_count": null,
      "outputs": []
    },
    {
      "cell_type": "code",
      "metadata": {
        "id": "qu-bOGBcge-m"
      },
      "source": [
        "#function to plot decision boundary\n",
        "def plot_regions(X,y,model,ax,title):\n",
        "    plt.sca(ax)\n",
        "    plot_decision_regions(X=X, y=y.astype(np.integer), clf=model, legend =2)\n",
        "    \n",
        "    plt.title(title)\n",
        "    plt.xlabel(\"thalach\")\n",
        "    plt.ylabel(\"cols\")\n"
      ],
      "execution_count": null,
      "outputs": []
    },
    {
      "cell_type": "markdown",
      "metadata": {
        "id": "SunTnkUpge-n"
      },
      "source": [
        "## 3. Building models\n",
        "<a id=\"models\"> </a>"
      ]
    },
    {
      "cell_type": "markdown",
      "metadata": {
        "id": "WqT5DHRzge-p"
      },
      "source": [
        "### 3.1. Decision tree"
      ]
    },
    {
      "cell_type": "code",
      "metadata": {
        "id": "os2ZX4HVge-q"
      },
      "source": [
        "#Build a pipeline\n",
        "tree_steps = [('standardizer', StandardScaler()),('tree', DecisionTreeClassifier(random_state =42))]\n",
        "tree_pipe = Pipeline(tree_steps)"
      ],
      "execution_count": null,
      "outputs": []
    },
    {
      "cell_type": "code",
      "metadata": {
        "id": "Kak8z4rqge-u"
      },
      "source": [
        "#define tree params - max depth of 2 to 20\n",
        "tree_params = {\"tree__max_depth\":list(range(2,20))}"
      ],
      "execution_count": null,
      "outputs": []
    },
    {
      "cell_type": "code",
      "metadata": {
        "colab": {
          "base_uri": "https://localhost:8080/"
        },
        "id": "BQhUimuage-v",
        "outputId": "86ecccaa-4bbf-433f-c8a8-0dcfa2fe5959"
      },
      "source": [
        "#Hyperparamter tuning and model fitting\n",
        "tree = GridSearchCV(tree_pipe,param_grid = tree_params, cv=10, scoring = \"accuracy\")\n",
        "tree.fit(X_train, y_train)"
      ],
      "execution_count": null,
      "outputs": [
        {
          "output_type": "execute_result",
          "data": {
            "text/plain": [
              "GridSearchCV(cv=10, error_score=nan,\n",
              "             estimator=Pipeline(memory=None,\n",
              "                                steps=[('standardizer',\n",
              "                                        StandardScaler(copy=True,\n",
              "                                                       with_mean=True,\n",
              "                                                       with_std=True)),\n",
              "                                       ('tree',\n",
              "                                        DecisionTreeClassifier(ccp_alpha=0.0,\n",
              "                                                               class_weight=None,\n",
              "                                                               criterion='gini',\n",
              "                                                               max_depth=None,\n",
              "                                                               max_features=None,\n",
              "                                                               max_leaf_nodes=None,\n",
              "                                                               min_impurity_decrease=0.0,\n",
              "                                                               min_impurity_split=None,\n",
              "                                                               min_samples_leaf=1,\n",
              "                                                               min_samples_split=2,\n",
              "                                                               min_weight_fraction_leaf=0.0,\n",
              "                                                               presort='deprecated',\n",
              "                                                               random_state=42,\n",
              "                                                               splitter='best'))],\n",
              "                                verbose=False),\n",
              "             iid='deprecated', n_jobs=None,\n",
              "             param_grid={'tree__max_depth': [2, 3, 4, 5, 6, 7, 8, 9, 10, 11, 12,\n",
              "                                             13, 14, 15, 16, 17, 18, 19]},\n",
              "             pre_dispatch='2*n_jobs', refit=True, return_train_score=False,\n",
              "             scoring='accuracy', verbose=0)"
            ]
          },
          "metadata": {
            "tags": []
          },
          "execution_count": 46
        }
      ]
    },
    {
      "cell_type": "code",
      "metadata": {
        "colab": {
          "base_uri": "https://localhost:8080/"
        },
        "id": "FzEnDy44ge-w",
        "outputId": "88a4b72e-a545-44fc-af36-5d51b4dee306"
      },
      "source": [
        "#Best hyperparameters\n",
        "tree.best_params_"
      ],
      "execution_count": null,
      "outputs": [
        {
          "output_type": "execute_result",
          "data": {
            "text/plain": [
              "{'tree__max_depth': 2}"
            ]
          },
          "metadata": {
            "tags": []
          },
          "execution_count": 47
        }
      ]
    },
    {
      "cell_type": "code",
      "metadata": {
        "colab": {
          "base_uri": "https://localhost:8080/"
        },
        "id": "kly1aUjJge-x",
        "outputId": "1b3926dc-1a7d-474e-b779-a0cc08dc73ec"
      },
      "source": [
        "#Performance\n",
        "DTCscore_test = tree.score(X_test,y_test)\n",
        "DTCscore_train = tree.score(X_train,y_train)\n",
        "\n",
        "print(\"Decision Tree Test Score: \",tree.score(X_test,y_test))\n",
        "print(\"Decision Tree Train Score: \",tree.score(X_train,y_train))\n",
        "\n"
      ],
      "execution_count": null,
      "outputs": [
        {
          "output_type": "stream",
          "text": [
            "Decision Tree Test Score:  0.7066666666666667\n",
            "Decision Tree Train Score:  0.7017543859649122\n"
          ],
          "name": "stdout"
        }
      ]
    },
    {
      "cell_type": "code",
      "metadata": {
        "colab": {
          "base_uri": "https://localhost:8080/"
        },
        "id": "bKfFGsFiZLGa",
        "outputId": "06c0df09-cb40-431b-da36-dc69f397efcd"
      },
      "source": [
        "yprediciton2= tree.predict(X_test)\r\n",
        "ytrue = y_test\r\n",
        "\r\n",
        "from sklearn.metrics import confusion_matrix\r\n",
        "CM = confusion_matrix(ytrue,yprediciton2)\r\n",
        "\r\n",
        "#CM visualization\r\n",
        "\r\n",
        "import seaborn as sns\r\n",
        "import matplotlib.pyplot as plt\r\n",
        "\r\n",
        "f, ax = plt.subplots(figsize=(5,5))\r\n",
        "sns.heatmap(CM,annot = True, linewidths=0.5,linecolor=\"white\",fmt=\".0f\",ax=ax, cmap=plt.cm.Blues)\r\n",
        "plt.xlabel(\"Prediction(Ypred)\")\r\n",
        "plt.ylabel(\"Ytrue\")\r\n",
        "plt.show()"
      ],
      "execution_count": null,
      "outputs": [
        {
          "output_type": "display_data",
          "data": {
            "image/png": "[encoded data removed]",
            "text/plain": [
              "<Figure size 360x360 with 2 Axes>"
            ]
          },
          "metadata": {
            "tags": []
          }
        }
      ]
    },
    {
      "cell_type": "code",
      "metadata": {
        "id": "P-To1w61ge-y",
        "colab": {
          "base_uri": "https://localhost:8080/"
        },
        "outputId": "c1702673-2196-4add-a2b2-e3e5760c361e"
      },
      "source": [
        "#Visualizing classification\n",
        "fig, ax = plt.subplots(1,2, figsize = (10, 5))\n",
        "plot_regions(X_train, y_train, tree, ax[0],\"Training set\")\n",
        "plot_regions(X_test,y_test, tree,ax[1], \"Testing set\")\n",
        "\n",
        "fig.suptitle(\"Simple Decision Tree model\", fontsize=14)\n",
        "plt.savefig(\"/content/sample_data/simpletree.png\")\n",
        "plt.show()"
      ],
      "execution_count": null,
      "outputs": [
        {
          "output_type": "stream",
          "text": [
            "/usr/local/lib/python3.6/dist-packages/ipykernel_launcher.py:4: DeprecationWarning: Converting `np.integer` or `np.signedinteger` to a dtype is deprecated. The current result is `np.dtype(np.int_)` which is not strictly correct. Note that the result depends on the system. To ensure stable results use may want to use `np.int64` or `np.int32`.\n",
            "  after removing the cwd from sys.path.\n",
            "/usr/local/lib/python3.6/dist-packages/mlxtend/plotting/decision_regions.py:244: MatplotlibDeprecationWarning: Passing unsupported keyword arguments to axis() will raise a TypeError in 3.3.\n",
            "  ax.axis(xmin=xx.min(), xmax=xx.max(), y_min=yy.min(), y_max=yy.max())\n",
            "/usr/local/lib/python3.6/dist-packages/ipykernel_launcher.py:4: DeprecationWarning: Converting `np.integer` or `np.signedinteger` to a dtype is deprecated. The current result is `np.dtype(np.int_)` which is not strictly correct. Note that the result depends on the system. To ensure stable results use may want to use `np.int64` or `np.int32`.\n",
            "  after removing the cwd from sys.path.\n",
            "/usr/local/lib/python3.6/dist-packages/mlxtend/plotting/decision_regions.py:244: MatplotlibDeprecationWarning: Passing unsupported keyword arguments to axis() will raise a TypeError in 3.3.\n",
            "  ax.axis(xmin=xx.min(), xmax=xx.max(), y_min=yy.min(), y_max=yy.max())\n"
          ],
          "name": "stderr"
        },
        {
          "output_type": "display_data",
          "data": {
            "image/png": "[encoded data removed]",
            "text/plain": [
              "<Figure size 720x360 with 2 Axes>"
            ]
          },
          "metadata": {
            "tags": []
          }
        }
      ]
    },
    {
      "cell_type": "markdown",
      "metadata": {
        "id": "E0HIi9Bnge-1"
      },
      "source": [
        "### 3.2. Ensemble methods\n",
        "<a id=\"ensemble\"> </a>"
      ]
    },
    {
      "cell_type": "markdown",
      "metadata": {
        "id": "PBpBh9iBge-1"
      },
      "source": [
        "### 3.2.1 Bagging\n",
        "<a id=\"bagging\"> </a>"
      ]
    },
    {
      "cell_type": "code",
      "metadata": {
        "id": "nf2-Y4yBge-3"
      },
      "source": [
        "#Build a bagging pipeline\n",
        "bag_steps = [('standardizer', StandardScaler()),('bag', BaggingClassifier(random_state=42))]\n",
        "bag_pipe = Pipeline(bag_steps)"
      ],
      "execution_count": null,
      "outputs": []
    },
    {
      "cell_type": "markdown",
      "metadata": {
        "id": "BabsY5Klge-4"
      },
      "source": [
        "- The hyperparameter in bagging is the number of trees in the ensemble. We will tune this paramter using 5-fold cross-validation."
      ]
    },
    {
      "cell_type": "code",
      "metadata": {
        "colab": {
          "base_uri": "https://localhost:8080/"
        },
        "id": "J2zzuG5-ge-4",
        "outputId": "1f569c0d-5f75-4c4d-8313-a599108fc307"
      },
      "source": [
        "#Hyper-parameter tuning\n",
        "#n-estimators == no. of trees\n",
        "bag_params = {\"bag__n_estimators\":list(range(2,11))}\n",
        "bag = GridSearchCV(bag_pipe,param_grid = bag_params, cv=10, scoring = \"accuracy\")\n",
        "bag.fit(X_train, y_train)"
      ],
      "execution_count": null,
      "outputs": [
        {
          "output_type": "execute_result",
          "data": {
            "text/plain": [
              "GridSearchCV(cv=10, error_score=nan,\n",
              "             estimator=Pipeline(memory=None,\n",
              "                                steps=[('standardizer',\n",
              "                                        StandardScaler(copy=True,\n",
              "                                                       with_mean=True,\n",
              "                                                       with_std=True)),\n",
              "                                       ('bag',\n",
              "                                        BaggingClassifier(base_estimator=None,\n",
              "                                                          bootstrap=True,\n",
              "                                                          bootstrap_features=False,\n",
              "                                                          max_features=1.0,\n",
              "                                                          max_samples=1.0,\n",
              "                                                          n_estimators=10,\n",
              "                                                          n_jobs=None,\n",
              "                                                          oob_score=False,\n",
              "                                                          random_state=42,\n",
              "                                                          verbose=0,\n",
              "                                                          warm_start=False))],\n",
              "                                verbose=False),\n",
              "             iid='deprecated', n_jobs=None,\n",
              "             param_grid={'bag__n_estimators': [2, 3, 4, 5, 6, 7, 8, 9, 10]},\n",
              "             pre_dispatch='2*n_jobs', refit=True, return_train_score=False,\n",
              "             scoring='accuracy', verbose=0)"
            ]
          },
          "metadata": {
            "tags": []
          },
          "execution_count": 52
        }
      ]
    },
    {
      "cell_type": "code",
      "metadata": {
        "colab": {
          "base_uri": "https://localhost:8080/"
        },
        "id": "sv0fZ94cge-7",
        "outputId": "7febe770-3522-4133-97f0-567078fc1900"
      },
      "source": [
        "#Best hyperparameters\n",
        "bag.best_params_"
      ],
      "execution_count": null,
      "outputs": [
        {
          "output_type": "execute_result",
          "data": {
            "text/plain": [
              "{'bag__n_estimators': 4}"
            ]
          },
          "metadata": {
            "tags": []
          },
          "execution_count": 53
        }
      ]
    },
    {
      "cell_type": "code",
      "metadata": {
        "colab": {
          "base_uri": "https://localhost:8080/"
        },
        "id": "eTHMEzsOge-7",
        "outputId": "d7fe857d-3a86-4292-a318-8f5d73708b39"
      },
      "source": [
        "#Performance\n",
        "print(\"Training accuracy is: {}\".format(accuracy(X_train, y_train,bag)))\n",
        "print(\"Testing accuracy is: {}\".format(accuracy(X_test, y_test,bag))) "
      ],
      "execution_count": null,
      "outputs": [
        {
          "output_type": "stream",
          "text": [
            "Training accuracy is: 0.93\n",
            "Testing accuracy is: 0.6\n"
          ],
          "name": "stdout"
        }
      ]
    },
    {
      "cell_type": "code",
      "metadata": {
        "colab": {
          "base_uri": "https://localhost:8080/"
        },
        "id": "2wtGzjegZqu5",
        "outputId": "d945eb82-a6dc-4c64-f8e6-fadf0d4a9b74"
      },
      "source": [
        "yprediciton2= bag.predict(X_test)\r\n",
        "ytrue = y_test\r\n",
        "\r\n",
        "from sklearn.metrics import confusion_matrix\r\n",
        "CM = confusion_matrix(ytrue,yprediciton2)\r\n",
        "\r\n",
        "#CM visualization\r\n",
        "\r\n",
        "import seaborn as sns\r\n",
        "import matplotlib.pyplot as plt\r\n",
        "\r\n",
        "f, ax = plt.subplots(figsize=(5,5))\r\n",
        "sns.heatmap(CM,annot = True, linewidths=0.5,linecolor=\"white\",fmt=\".0f\",ax=ax, cmap=plt.cm.Blues)\r\n",
        "plt.xlabel(\"Prediction(Ypred)\")\r\n",
        "plt.ylabel(\"Ytrue\")\r\n",
        "plt.show()"
      ],
      "execution_count": null,
      "outputs": [
        {
          "output_type": "display_data",
          "data": {
            "image/png": "[encoded data removed]",
            "text/plain": [
              "<Figure size 360x360 with 2 Axes>"
            ]
          },
          "metadata": {
            "tags": []
          }
        }
      ]
    },
    {
      "cell_type": "code",
      "metadata": {
        "id": "MKFjfsb5ge-9",
        "colab": {
          "base_uri": "https://localhost:8080/"
        },
        "outputId": "5a7d5d04-adc1-4d2e-fa97-467fa96dc7f6"
      },
      "source": [
        "#Visualizing classification\n",
        "fig, ax = plt.subplots(1,2, figsize = (10, 5))\n",
        "plot_regions(X_train,y_train, bag,ax[0], \"Training set\")\n",
        "plot_regions(X_test,y_test, bag,ax[1], \"Testing set\")\n",
        "\n",
        "fig.suptitle(\"Bagging\", fontsize=14)\n",
        "plt.savefig(\"/content/sample_data/bag.png\")\n",
        "plt.show()"
      ],
      "execution_count": null,
      "outputs": [
        {
          "output_type": "stream",
          "text": [
            "/usr/local/lib/python3.6/dist-packages/ipykernel_launcher.py:4: DeprecationWarning: Converting `np.integer` or `np.signedinteger` to a dtype is deprecated. The current result is `np.dtype(np.int_)` which is not strictly correct. Note that the result depends on the system. To ensure stable results use may want to use `np.int64` or `np.int32`.\n",
            "  after removing the cwd from sys.path.\n",
            "/usr/local/lib/python3.6/dist-packages/mlxtend/plotting/decision_regions.py:244: MatplotlibDeprecationWarning: Passing unsupported keyword arguments to axis() will raise a TypeError in 3.3.\n",
            "  ax.axis(xmin=xx.min(), xmax=xx.max(), y_min=yy.min(), y_max=yy.max())\n",
            "/usr/local/lib/python3.6/dist-packages/ipykernel_launcher.py:4: DeprecationWarning: Converting `np.integer` or `np.signedinteger` to a dtype is deprecated. The current result is `np.dtype(np.int_)` which is not strictly correct. Note that the result depends on the system. To ensure stable results use may want to use `np.int64` or `np.int32`.\n",
            "  after removing the cwd from sys.path.\n",
            "/usr/local/lib/python3.6/dist-packages/mlxtend/plotting/decision_regions.py:244: MatplotlibDeprecationWarning: Passing unsupported keyword arguments to axis() will raise a TypeError in 3.3.\n",
            "  ax.axis(xmin=xx.min(), xmax=xx.max(), y_min=yy.min(), y_max=yy.max())\n"
          ],
          "name": "stderr"
        },
        {
          "output_type": "display_data",
          "data": {
            "image/png": "[encoded data removed]",
            "text/plain": [
              "<Figure size 720x360 with 2 Axes>"
            ]
          },
          "metadata": {
            "tags": []
          }
        }
      ]
    },
    {
      "cell_type": "markdown",
      "metadata": {
        "id": "0rx8O91Cge_Q"
      },
      "source": [
        "### 3.2.3. Boosting"
      ]
    },
    {
      "cell_type": "code",
      "metadata": {
        "id": "d1ZNy2dlge_R"
      },
      "source": [
        "#Build an adaboost pipe\n",
        "boost_steps = [('standardizer', StandardScaler()),('boost', AdaBoostClassifier(random_state=42))]\n",
        "boost_pipe = Pipeline(boost_steps)"
      ],
      "execution_count": null,
      "outputs": []
    },
    {
      "cell_type": "code",
      "metadata": {
        "id": "6QVc84Asge_S",
        "colab": {
          "base_uri": "https://localhost:8080/"
        },
        "outputId": "47b4a0f4-1a7e-445b-8981-e2e7b0b5b3d2"
      },
      "source": [
        "#hyperparamter tuning\n",
        "#n-estimators == no. of trees and learning rate == shrinks weightage of each additional tree in the ensemble(controls for overfitting)\n",
        "boost_params = {\"boost__n_estimators\":list(range(2,20)), \"boost__learning_rate\":[0.001,0.01,0.1,1,1.4,1.8,2,3,4]}\n",
        "boost = GridSearchCV(boost_pipe,param_grid = boost_params, cv=10)\n",
        "boost.fit(X_train, y_train)"
      ],
      "execution_count": null,
      "outputs": [
        {
          "output_type": "execute_result",
          "data": {
            "text/plain": [
              "GridSearchCV(cv=10, error_score=nan,\n",
              "             estimator=Pipeline(memory=None,\n",
              "                                steps=[('standardizer',\n",
              "                                        StandardScaler(copy=True,\n",
              "                                                       with_mean=True,\n",
              "                                                       with_std=True)),\n",
              "                                       ('boost',\n",
              "                                        AdaBoostClassifier(algorithm='SAMME.R',\n",
              "                                                           base_estimator=None,\n",
              "                                                           learning_rate=1.0,\n",
              "                                                           n_estimators=50,\n",
              "                                                           random_state=42))],\n",
              "                                verbose=False),\n",
              "             iid='deprecated', n_jobs=None,\n",
              "             param_grid={'boost__learning_rate': [0.001, 0.01, 0.1, 1, 1.4, 1.8,\n",
              "                                                  2, 3, 4],\n",
              "                         'boost__n_estimators': [2, 3, 4, 5, 6, 7, 8, 9, 10, 11,\n",
              "                                                 12, 13, 14, 15, 16, 17, 18,\n",
              "                                                 19]},\n",
              "             pre_dispatch='2*n_jobs', refit=True, return_train_score=False,\n",
              "             scoring=None, verbose=0)"
            ]
          },
          "metadata": {
            "tags": []
          },
          "execution_count": 58
        }
      ]
    },
    {
      "cell_type": "code",
      "metadata": {
        "id": "so9_Z7WRge_T",
        "colab": {
          "base_uri": "https://localhost:8080/"
        },
        "outputId": "1352d3f7-b04b-4a17-f710-7f20eb8b8b17"
      },
      "source": [
        "#Best hyperparameters\n",
        "boost.best_params_"
      ],
      "execution_count": null,
      "outputs": [
        {
          "output_type": "execute_result",
          "data": {
            "text/plain": [
              "{'boost__learning_rate': 2, 'boost__n_estimators': 5}"
            ]
          },
          "metadata": {
            "tags": []
          },
          "execution_count": 59
        }
      ]
    },
    {
      "cell_type": "code",
      "metadata": {
        "colab": {
          "base_uri": "https://localhost:8080/"
        },
        "id": "Nf0ELQiragQ8",
        "outputId": "adbf8482-1bf9-482e-c425-559da065e851"
      },
      "source": [
        "yprediciton2= boost.predict(X_test)\r\n",
        "ytrue = y_test\r\n",
        "\r\n",
        "from sklearn.metrics import confusion_matrix\r\n",
        "CM = confusion_matrix(ytrue,yprediciton2)\r\n",
        "\r\n",
        "#CM visualization\r\n",
        "\r\n",
        "import seaborn as sns\r\n",
        "import matplotlib.pyplot as plt\r\n",
        "\r\n",
        "f, ax = plt.subplots(figsize=(5,5))\r\n",
        "sns.heatmap(CM,annot = True, linewidths=0.5,linecolor=\"white\",fmt=\".0f\",ax=ax, cmap=plt.cm.Blues)\r\n",
        "plt.xlabel(\"Prediction(Ypred)\")\r\n",
        "plt.ylabel(\"Ytrue\")\r\n",
        "plt.show()"
      ],
      "execution_count": null,
      "outputs": [
        {
          "output_type": "display_data",
          "data": {
            "image/png": "[encoded data removed]",
            "text/plain": [
              "<Figure size 360x360 with 2 Axes>"
            ]
          },
          "metadata": {
            "tags": []
          }
        }
      ]
    },
    {
      "cell_type": "code",
      "metadata": {
        "id": "lTia0RiJge_U",
        "colab": {
          "base_uri": "https://localhost:8080/"
        },
        "outputId": "22712894-1672-45ec-a663-aa2e0b48abe7"
      },
      "source": [
        "Adascore=boost.score(X_test,y_test)\n",
        "\n",
        "print(\"AdaBoost Test Score: \",boost.score(X_test,y_test))\n",
        "print(\"AdaBoost Train Score: \",boost.score(X_train,y_train))\n",
        "#Performance\n"
      ],
      "execution_count": null,
      "outputs": [
        {
          "output_type": "stream",
          "text": [
            "AdaBoost Test Score:  0.7066666666666667\n",
            "AdaBoost Train Score:  0.7017543859649122\n"
          ],
          "name": "stdout"
        }
      ]
    },
    {
      "cell_type": "code",
      "metadata": {
        "id": "3iupe2mCge_V",
        "colab": {
          "base_uri": "https://localhost:8080/"
        },
        "outputId": "e29f89b6-3f3e-4155-c396-44f6f284a018"
      },
      "source": [
        "#Classification visualization\n",
        "fig, ax = plt.subplots(1,2, figsize = (10, 5))\n",
        "plot_regions(X_train,y_train, boost,ax[0], \"Training set\")\n",
        "plot_regions(X_test,y_test, boost,ax[1], \"Testing set\")\n",
        "\n",
        "fig.suptitle(\"Boosting\", fontsize=14)\n",
        "plt.savefig(\"/content/sample_data/boost.png\")\n",
        "plt.show()"
      ],
      "execution_count": null,
      "outputs": [
        {
          "output_type": "stream",
          "text": [
            "/usr/local/lib/python3.6/dist-packages/ipykernel_launcher.py:4: DeprecationWarning: Converting `np.integer` or `np.signedinteger` to a dtype is deprecated. The current result is `np.dtype(np.int_)` which is not strictly correct. Note that the result depends on the system. To ensure stable results use may want to use `np.int64` or `np.int32`.\n",
            "  after removing the cwd from sys.path.\n",
            "/usr/local/lib/python3.6/dist-packages/mlxtend/plotting/decision_regions.py:244: MatplotlibDeprecationWarning: Passing unsupported keyword arguments to axis() will raise a TypeError in 3.3.\n",
            "  ax.axis(xmin=xx.min(), xmax=xx.max(), y_min=yy.min(), y_max=yy.max())\n",
            "/usr/local/lib/python3.6/dist-packages/ipykernel_launcher.py:4: DeprecationWarning: Converting `np.integer` or `np.signedinteger` to a dtype is deprecated. The current result is `np.dtype(np.int_)` which is not strictly correct. Note that the result depends on the system. To ensure stable results use may want to use `np.int64` or `np.int32`.\n",
            "  after removing the cwd from sys.path.\n",
            "/usr/local/lib/python3.6/dist-packages/mlxtend/plotting/decision_regions.py:244: MatplotlibDeprecationWarning: Passing unsupported keyword arguments to axis() will raise a TypeError in 3.3.\n",
            "  ax.axis(xmin=xx.min(), xmax=xx.max(), y_min=yy.min(), y_max=yy.max())\n"
          ],
          "name": "stderr"
        },
        {
          "output_type": "display_data",
          "data": {
            "image/png": "[encoded data removed]",
            "text/plain": [
              "<Figure size 720x360 with 2 Axes>"
            ]
          },
          "metadata": {
            "tags": []
          }
        }
      ]
    },
    {
      "cell_type": "markdown",
      "metadata": {
        "id": "2DlqD0xsge_V"
      },
      "source": [
        "**Results:** This is an interesting result. It is evident that AdaBoost gave us a classification region that is very similar to our simple decision tree. One possible explanation for this is that the data did not provide any further information required to reduce errors predicted by our base estimator.\n"
      ]
    },
    {
      "cell_type": "markdown",
      "metadata": {
        "id": "SXK134COge_W"
      },
      "source": [
        "### Choosing the best model"
      ]
    },
    {
      "cell_type": "markdown",
      "metadata": {
        "id": "1wZ-9KuKge_X"
      },
      "source": [
        "Now that we have analyzed, let us choose the best performing one and see how it can be deployed in practice."
      ]
    },
    {
      "cell_type": "code",
      "metadata": {
        "id": "ymc0Bhpkge_Y"
      },
      "source": [
        "#Comparing performance of all models\n",
        "acc_dict = {}\n",
        "\n",
        "all_models = [tree, bag, boost]\n",
        "all_model_names = [\"tree\",\"bagging\",\"adaboost\"]\n",
        "for i in range(len(all_models)):\n",
        "    acc_dict[all_model_names[i]] = accuracy(X_test,y_test,all_models[i])"
      ],
      "execution_count": null,
      "outputs": []
    },
    {
      "cell_type": "code",
      "metadata": {
        "id": "Qk9mREqmge_Y",
        "colab": {
          "base_uri": "https://localhost:8080/",
          "height": 338
        },
        "outputId": "14a48288-0de1-4801-f9c5-54eb45aa3fd1"
      },
      "source": [
        "#Plot performance comparison bar plot\n",
        "sns.barplot(list(acc_dict.keys()), list(acc_dict.values()))\n",
        "plt.title(\"Comparison of accuracy among baseline tree models\")\n",
        "plt.ylabel(\"Test set accuracy\")\n",
        "plt.savefig(\"/content/sample_data/perfcomparison\")"
      ],
      "execution_count": null,
      "outputs": [
        {
          "output_type": "stream",
          "text": [
            "/usr/local/lib/python3.6/dist-packages/seaborn/_decorators.py:43: FutureWarning: Pass the following variables as keyword args: x, y. From version 0.12, the only valid positional argument will be `data`, and passing other arguments without an explicit keyword will result in an error or misinterpretation.\n",
            "  FutureWarning\n"
          ],
          "name": "stderr"
        },
        {
          "output_type": "display_data",
          "data": {
            "image/png": "[encoded data removed]",
            "text/plain": [
              "<Figure size 432x288 with 1 Axes>"
            ]
          },
          "metadata": {
            "tags": []
          }
        }
      ]
    },
    {
      "cell_type": "markdown",
      "metadata": {
        "id": "Xiw2P9439fFc"
      },
      "source": [
        "###3.3 Support Vector Machine"
      ]
    },
    {
      "cell_type": "code",
      "metadata": {
        "colab": {
          "base_uri": "https://localhost:8080/"
        },
        "id": "z-O8WHUp9Djq",
        "outputId": "75de8ba2-89b8-43ec-8a0e-dcfc4136ce09"
      },
      "source": [
        "from sklearn.svm import SVC\r\n",
        "svc = SVC()\r\n",
        "svc.fit(x_train, y_train)  #learning \r\n",
        "#SVM Test \r\n",
        "\r\n",
        "SVMscore_test = svc.score(x_test, y_test)\r\n",
        "SVMscore_train = svc.score(x_train, y_train)\r\n",
        "print (\"SVM Test Accuracy:\", svc.score(x_test,y_test))\r\n",
        "\r\n",
        "print (\"SVM Train Accuracy:\", svc.score(x_train, y_train))"
      ],
      "execution_count": null,
      "outputs": [
        {
          "output_type": "stream",
          "text": [
            "SVM Test Accuracy: 0.8524590163934426\n",
            "SVM Train Accuracy: 0.9132231404958677\n"
          ],
          "name": "stdout"
        }
      ]
    },
    {
      "cell_type": "code",
      "metadata": {
        "colab": {
          "base_uri": "https://localhost:8080/",
          "height": 339
        },
        "id": "RjO_Vwta9LLs",
        "outputId": "2d3f8b26-400a-4db5-95c8-e36ae1ce4ff3"
      },
      "source": [
        "yprediciton2= svc.predict(x_test)\r\n",
        "ytrue = y_test\r\n",
        "\r\n",
        "from sklearn.metrics import confusion_matrix\r\n",
        "CM = confusion_matrix(ytrue,yprediciton2)\r\n",
        "\r\n",
        "#CM visualization\r\n",
        "\r\n",
        "import seaborn as sns\r\n",
        "import matplotlib.pyplot as plt\r\n",
        "\r\n",
        "f, ax = plt.subplots(figsize=(5,5))\r\n",
        "sns.heatmap(CM,annot = True, linewidths=0.5,linecolor=\"white\",fmt=\".0f\",ax=ax, cmap=plt.cm.Blues)\r\n",
        "plt.xlabel(\"Prediction(Ypred)\")\r\n",
        "plt.ylabel(\"Ytrue\")\r\n",
        "plt.show()"
      ],
      "execution_count": null,
      "outputs": [
        {
          "output_type": "display_data",
          "data": {
            "image/png": "[encoded data removed]",
            "text/plain": [
              "<Figure size 360x360 with 2 Axes>"
            ]
          },
          "metadata": {
            "tags": []
          }
        }
      ]
    },
    {
      "cell_type": "markdown",
      "metadata": {
        "id": "OJv8Uo8h9mif"
      },
      "source": [
        "###3.4 Random Forest"
      ]
    },
    {
      "cell_type": "code",
      "metadata": {
        "colab": {
          "base_uri": "https://localhost:8080/",
          "height": 355
        },
        "id": "2q8nflas9bwv",
        "outputId": "627dd4f8-01f8-478a-ffbf-60e53f7df28b"
      },
      "source": [
        "random_state = 42\r\n",
        "scores = []\r\n",
        "for each in range(1,50):\r\n",
        "    rf = RandomForestClassifier(n_estimators = each,random_state=random_state,max_depth=3)\r\n",
        "    rf.fit(x_train,y_train)\r\n",
        "    scores.append(rf.score(x_test,y_test))\r\n",
        "    \r\n",
        "plt.figure(1, figsize=(10, 5))\r\n",
        "plt.plot(range(1,50),scores,color=\"green\",linewidth=2)\r\n",
        "plt.title(\"Optimum N Estimator Value\")\r\n",
        "plt.xlabel(\"N Estimators\")\r\n",
        "plt.ylabel(\"Score(Accuracy)\")\r\n",
        "plt.grid(True)\r\n",
        "plt.show()"
      ],
      "execution_count": null,
      "outputs": [
        {
          "output_type": "display_data",
          "data": {
            "image/png": "[encoded data removed]",
            "text/plain": [
              "<Figure size 720x360 with 1 Axes>"
            ]
          },
          "metadata": {
            "tags": []
          }
        }
      ]
    },
    {
      "cell_type": "code",
      "metadata": {
        "colab": {
          "base_uri": "https://localhost:8080/"
        },
        "id": "IOth0upV-J9J",
        "outputId": "693c03a8-76b9-472e-8627-dd4445fc588e"
      },
      "source": [
        "rf= RandomForestClassifier(n_estimators = 19, random_state=random_state,max_depth=3) #n_estimator = DT\r\n",
        "rf.fit(x_train,y_train) # learning\r\n",
        "RFCscore=rf.score(x_test,y_test)\r\n",
        "\r\n",
        "print(\"Random Forest Test Score: \",rf.score(x_test,y_test))\r\n",
        "print(\"Random Forest Train Score: \",rf.score(x_train,y_train))"
      ],
      "execution_count": null,
      "outputs": [
        {
          "output_type": "stream",
          "text": [
            "Random Forest Test Score:  0.8852459016393442\n",
            "Random Forest Train Score:  0.8760330578512396\n"
          ],
          "name": "stdout"
        }
      ]
    },
    {
      "cell_type": "code",
      "metadata": {
        "colab": {
          "base_uri": "https://localhost:8080/",
          "height": 339
        },
        "id": "WHS8Ohgs-SI3",
        "outputId": "157b81e5-3ceb-4743-d4d7-52e1f514f84b"
      },
      "source": [
        "yprediciton2= rf.predict(x_test)\r\n",
        "ytrue = y_test\r\n",
        "\r\n",
        "from sklearn.metrics import confusion_matrix\r\n",
        "CM = confusion_matrix(ytrue,yprediciton2)\r\n",
        "\r\n",
        "#CM visualization\r\n",
        "\r\n",
        "import seaborn as sns\r\n",
        "import matplotlib.pyplot as plt\r\n",
        "\r\n",
        "f, ax = plt.subplots(figsize=(5,5))\r\n",
        "sns.heatmap(CM,annot = True, linewidths=0.5,linecolor=\"white\",fmt=\".0f\",ax=ax, cmap=plt.cm.Blues)\r\n",
        "plt.xlabel(\"Prediction(Ypred)\")\r\n",
        "plt.ylabel(\"Ytrue\")\r\n",
        "plt.show()"
      ],
      "execution_count": null,
      "outputs": [
        {
          "output_type": "display_data",
          "data": {
            "image/png": "[encoded data removed]",
            "text/plain": [
              "<Figure size 360x360 with 2 Axes>"
            ]
          },
          "metadata": {
            "tags": []
          }
        }
      ]
    },
    {
      "cell_type": "markdown",
      "metadata": {
        "id": "e2NIpmVx9q4-"
      },
      "source": [
        "###3.5 Voting Classifier"
      ]
    },
    {
      "cell_type": "code",
      "metadata": {
        "colab": {
          "base_uri": "https://localhost:8080/"
        },
        "id": "YSR2J3iM9u2h",
        "outputId": "eaa7b4f5-4022-45a2-fe6c-1ae55fd3b31e"
      },
      "source": [
        "from sklearn.ensemble import RandomForestClassifier, AdaBoostClassifier, VotingClassifier\r\n",
        "v1 = VotingClassifier(estimators = [('svc',svc),('dt',tree),('rf',rf),('ada',boost)])\r\n",
        "v1.fit(x_train,y_train) # learning\r\n",
        "vooting1=v1.score(x_test,y_test)\r\n",
        "\r\n",
        "print(\"Voting C. Test Score: \",v1.score(x_test,y_test))\r\n",
        "print(\"Voting C. Train Score: \",v1.score(x_train,y_train))"
      ],
      "execution_count": null,
      "outputs": [
        {
          "output_type": "stream",
          "text": [
            "Voting C. Test Score:  0.8852459016393442\n",
            "Voting C. Train Score:  0.8884297520661157\n"
          ],
          "name": "stdout"
        }
      ]
    },
    {
      "cell_type": "code",
      "metadata": {
        "colab": {
          "base_uri": "https://localhost:8080/",
          "height": 339
        },
        "id": "p-s3q_zYAK0N",
        "outputId": "6d732129-7fd5-4ff4-f77e-1e2a797afe1d"
      },
      "source": [
        "yprediciton5= v1.predict(x_test)\r\n",
        "ytrue = y_test\r\n",
        "\r\n",
        "from sklearn.metrics import confusion_matrix\r\n",
        "CM = confusion_matrix(ytrue,yprediciton5)\r\n",
        "\r\n",
        "import seaborn as sns\r\n",
        "import matplotlib.pyplot as plt\r\n",
        "\r\n",
        "f, ax = plt.subplots(figsize=(5,5))\r\n",
        "sns.heatmap(CM,annot = True, linewidths=0.5,linecolor=\"white\",fmt=\".0f\",ax=ax, cmap=plt.cm.Blues)\r\n",
        "plt.xlabel(\"Prediction(Ypred)\")\r\n",
        "plt.ylabel(\"Ytrue\")\r\n",
        "plt.show()"
      ],
      "execution_count": null,
      "outputs": [
        {
          "output_type": "display_data",
          "data": {
            "image/png": "[encoded data removed]",
            "text/plain": [
              "<Figure size 360x360 with 2 Axes>"
            ]
          },
          "metadata": {
            "tags": []
          }
        }
      ]
    },
    {
      "cell_type": "code",
      "metadata": {
        "colab": {
          "base_uri": "https://localhost:8080/",
          "height": 542
        },
        "id": "uC-dnOoIAPHf",
        "outputId": "9df876ab-f541-4464-b94b-4fcf2a2a0272"
      },
      "source": [
        "import plotly.graph_objs as go\r\n",
        "from plotly.offline import init_notebook_mode, iplot\r\n",
        "\r\n",
        "scores=[SVMscore_test,DTCscore_test,RFCscore,Adascore,vooting1]\r\n",
        "AlgorthmsName=[\"SVM\",\"Decision Tree\",\"Random Forest\",\"Adaboost\",'Voting Classifier -1-']\r\n",
        "\r\n",
        "#create traces\r\n",
        "\r\n",
        "trace1 = go.Scatter(\r\n",
        "    x = AlgorthmsName,\r\n",
        "    y= scores,\r\n",
        "    name='Algortms Name',\r\n",
        "    marker =dict(color='rgba(0,255,0,0.5)',\r\n",
        "               line =dict(color='rgb(0,0,0)',width=2)),\r\n",
        "                text=AlgorthmsName\r\n",
        ")\r\n",
        "data = [trace1]\r\n",
        "\r\n",
        "layout = go.Layout(barmode = \"group\",\r\n",
        "                  xaxis= dict(title= 'ML Algorithms',ticklen= 5,zeroline= False),\r\n",
        "              yaxis= dict(title= 'Prediction Scores',ticklen= 5,zeroline= False))\r\n",
        "fig = go.Figure(data = data, layout = layout)\r\n",
        "iplot(fig)"
      ],
      "execution_count": null,
      "outputs": [
        {
          "output_type": "display_data",
          "data": {
            "text/html": [
              "<html>\n",
              "<head><meta charset=\"utf-8\" /></head>\n",
              "<body>\n",
              "    <div>\n",
              "            <script src=\"https://cdnjs.cloudflare.com/ajax/libs/mathjax/2.7.5/MathJax.js?config=TeX-AMS-MML_SVG\"></script><script type=\"text/javascript\">if (window.MathJax) {MathJax.Hub.Config({SVG: {font: \"STIX-Web\"}});}</script>\n",
              "                <script type=\"text/javascript\">window.PlotlyConfig = {MathJaxConfig: 'local'};</script>\n",
              "        <script src=\"https://cdn.plot.ly/plotly-latest.min.js\"></script>    \n",
              "            <div id=\"4bd868f0-15ba-4abf-b38c-cbd3b4d589d7\" class=\"plotly-graph-div\" style=\"height:525px; width:100%;\"></div>\n",
              "            <script type=\"text/javascript\">\n",
              "                \n",
              "                    window.PLOTLYENV=window.PLOTLYENV || {};\n",
              "                    \n",
              "                if (document.getElementById(\"4bd868f0-15ba-4abf-b38c-cbd3b4d589d7\")) {\n",
              "                    Plotly.newPlot(\n",
              "                        '4bd868f0-15ba-4abf-b38c-cbd3b4d589d7',\n",
              "                        [{\"marker\": {\"color\": \"rgba(0,255,0,0.5)\", \"line\": {\"color\": \"rgb(0,0,0)\", \"width\": 2}}, \"name\": \"Algortms Name\", \"text\": [\"SVM\", \"Decision Tree\", \"Random Forest\", \"Adaboost\", \"Voting Classifier -1-\"], \"type\": \"scatter\", \"x\": [\"SVM\", \"Decision Tree\", \"Random Forest\", \"Adaboost\", \"Voting Classifier -1-\"], \"y\": [0.8524590163934426, 0.7066666666666667, 0.8852459016393442, 0.7066666666666667, 0.8852459016393442]}],\n",
              "                        {\"barmode\": \"group\", \"template\": {\"data\": {\"bar\": [{\"error_x\": {\"color\": \"#2a3f5f\"}, \"error_y\": {\"color\": \"#2a3f5f\"}, \"marker\": {\"line\": {\"color\": \"#E5ECF6\", \"width\": 0.5}}, \"type\": \"bar\"}], \"barpolar\": [{\"marker\": {\"line\": {\"color\": \"#E5ECF6\", \"width\": 0.5}}, \"type\": \"barpolar\"}], \"carpet\": [{\"aaxis\": {\"endlinecolor\": \"#2a3f5f\", \"gridcolor\": \"white\", \"linecolor\": \"white\", \"minorgridcolor\": \"white\", \"startlinecolor\": \"#2a3f5f\"}, \"baxis\": {\"endlinecolor\": \"#2a3f5f\", \"gridcolor\": \"white\", \"linecolor\": \"white\", \"minorgridcolor\": \"white\", \"startlinecolor\": \"#2a3f5f\"}, \"type\": \"carpet\"}], \"choropleth\": [{\"colorbar\": {\"outlinewidth\": 0, \"ticks\": \"\"}, \"type\": \"choropleth\"}], \"contour\": [{\"colorbar\": {\"outlinewidth\": 0, \"ticks\": \"\"}, \"colorscale\": [[0.0, \"#0d0887\"], [0.1111111111111111, \"#46039f\"], [0.2222222222222222, \"#7201a8\"], [0.3333333333333333, \"#9c179e\"], [0.4444444444444444, \"#bd3786\"], [0.5555555555555556, \"#d8576b\"], [0.6666666666666666, \"#ed7953\"], [0.7777777777777778, \"#fb9f3a\"], [0.8888888888888888, \"#fdca26\"], [1.0, \"#f0f921\"]], \"type\": \"contour\"}], \"contourcarpet\": [{\"colorbar\": {\"outlinewidth\": 0, \"ticks\": \"\"}, \"type\": \"contourcarpet\"}], \"heatmap\": [{\"colorbar\": {\"outlinewidth\": 0, \"ticks\": \"\"}, \"colorscale\": [[0.0, \"#0d0887\"], [0.1111111111111111, \"#46039f\"], [0.2222222222222222, \"#7201a8\"], [0.3333333333333333, \"#9c179e\"], [0.4444444444444444, \"#bd3786\"], [0.5555555555555556, \"#d8576b\"], [0.6666666666666666, \"#ed7953\"], [0.7777777777777778, \"#fb9f3a\"], [0.8888888888888888, \"#fdca26\"], [1.0, \"#f0f921\"]], \"type\": \"heatmap\"}], \"heatmapgl\": [{\"colorbar\": {\"outlinewidth\": 0, \"ticks\": \"\"}, \"colorscale\": [[0.0, \"#0d0887\"], [0.1111111111111111, \"#46039f\"], [0.2222222222222222, \"#7201a8\"], [0.3333333333333333, \"#9c179e\"], [0.4444444444444444, \"#bd3786\"], [0.5555555555555556, \"#d8576b\"], [0.6666666666666666, \"#ed7953\"], [0.7777777777777778, \"#fb9f3a\"], [0.8888888888888888, \"#fdca26\"], [1.0, \"#f0f921\"]], \"type\": \"heatmapgl\"}], \"histogram\": [{\"marker\": {\"colorbar\": {\"outlinewidth\": 0, \"ticks\": \"\"}}, \"type\": \"histogram\"}], \"histogram2d\": [{\"colorbar\": {\"outlinewidth\": 0, \"ticks\": \"\"}, \"colorscale\": [[0.0, \"#0d0887\"], [0.1111111111111111, \"#46039f\"], [0.2222222222222222, \"#7201a8\"], [0.3333333333333333, \"#9c179e\"], [0.4444444444444444, \"#bd3786\"], [0.5555555555555556, \"#d8576b\"], [0.6666666666666666, \"#ed7953\"], [0.7777777777777778, \"#fb9f3a\"], [0.8888888888888888, \"#fdca26\"], [1.0, \"#f0f921\"]], \"type\": \"histogram2d\"}], \"histogram2dcontour\": [{\"colorbar\": {\"outlinewidth\": 0, \"ticks\": \"\"}, \"colorscale\": [[0.0, \"#0d0887\"], [0.1111111111111111, \"#46039f\"], [0.2222222222222222, \"#7201a8\"], [0.3333333333333333, \"#9c179e\"], [0.4444444444444444, \"#bd3786\"], [0.5555555555555556, \"#d8576b\"], [0.6666666666666666, \"#ed7953\"], [0.7777777777777778, \"#fb9f3a\"], [0.8888888888888888, \"#fdca26\"], [1.0, \"#f0f921\"]], \"type\": \"histogram2dcontour\"}], \"mesh3d\": [{\"colorbar\": {\"outlinewidth\": 0, \"ticks\": \"\"}, \"type\": \"mesh3d\"}], \"parcoords\": [{\"line\": {\"colorbar\": {\"outlinewidth\": 0, \"ticks\": \"\"}}, \"type\": \"parcoords\"}], \"pie\": [{\"automargin\": true, \"type\": \"pie\"}], \"scatter\": [{\"marker\": {\"colorbar\": {\"outlinewidth\": 0, \"ticks\": \"\"}}, \"type\": \"scatter\"}], \"scatter3d\": [{\"line\": {\"colorbar\": {\"outlinewidth\": 0, \"ticks\": \"\"}}, \"marker\": {\"colorbar\": {\"outlinewidth\": 0, \"ticks\": \"\"}}, \"type\": \"scatter3d\"}], \"scattercarpet\": [{\"marker\": {\"colorbar\": {\"outlinewidth\": 0, \"ticks\": \"\"}}, \"type\": \"scattercarpet\"}], \"scattergeo\": [{\"marker\": {\"colorbar\": {\"outlinewidth\": 0, \"ticks\": \"\"}}, \"type\": \"scattergeo\"}], \"scattergl\": [{\"marker\": {\"colorbar\": {\"outlinewidth\": 0, \"ticks\": \"\"}}, \"type\": \"scattergl\"}], \"scattermapbox\": [{\"marker\": {\"colorbar\": {\"outlinewidth\": 0, \"ticks\": \"\"}}, \"type\": \"scattermapbox\"}], \"scatterpolar\": [{\"marker\": {\"colorbar\": {\"outlinewidth\": 0, \"ticks\": \"\"}}, \"type\": \"scatterpolar\"}], \"scatterpolargl\": [{\"marker\": {\"colorbar\": {\"outlinewidth\": 0, \"ticks\": \"\"}}, \"type\": \"scatterpolargl\"}], \"scatterternary\": [{\"marker\": {\"colorbar\": {\"outlinewidth\": 0, \"ticks\": \"\"}}, \"type\": \"scatterternary\"}], \"surface\": [{\"colorbar\": {\"outlinewidth\": 0, \"ticks\": \"\"}, \"colorscale\": [[0.0, \"#0d0887\"], [0.1111111111111111, \"#46039f\"], [0.2222222222222222, \"#7201a8\"], [0.3333333333333333, \"#9c179e\"], [0.4444444444444444, \"#bd3786\"], [0.5555555555555556, \"#d8576b\"], [0.6666666666666666, \"#ed7953\"], [0.7777777777777778, \"#fb9f3a\"], [0.8888888888888888, \"#fdca26\"], [1.0, \"#f0f921\"]], \"type\": \"surface\"}], \"table\": [{\"cells\": {\"fill\": {\"color\": \"#EBF0F8\"}, \"line\": {\"color\": \"white\"}}, \"header\": {\"fill\": {\"color\": \"#C8D4E3\"}, \"line\": {\"color\": \"white\"}}, \"type\": \"table\"}]}, \"layout\": {\"annotationdefaults\": {\"arrowcolor\": \"#2a3f5f\", \"arrowhead\": 0, \"arrowwidth\": 1}, \"coloraxis\": {\"colorbar\": {\"outlinewidth\": 0, \"ticks\": \"\"}}, \"colorscale\": {\"diverging\": [[0, \"#8e0152\"], [0.1, \"#c51b7d\"], [0.2, \"#de77ae\"], [0.3, \"#f1b6da\"], [0.4, \"#fde0ef\"], [0.5, \"#f7f7f7\"], [0.6, \"#e6f5d0\"], [0.7, \"#b8e186\"], [0.8, \"#7fbc41\"], [0.9, \"#4d9221\"], [1, \"#276419\"]], \"sequential\": [[0.0, \"#0d0887\"], [0.1111111111111111, \"#46039f\"], [0.2222222222222222, \"#7201a8\"], [0.3333333333333333, \"#9c179e\"], [0.4444444444444444, \"#bd3786\"], [0.5555555555555556, \"#d8576b\"], [0.6666666666666666, \"#ed7953\"], [0.7777777777777778, \"#fb9f3a\"], [0.8888888888888888, \"#fdca26\"], [1.0, \"#f0f921\"]], \"sequentialminus\": [[0.0, \"#0d0887\"], [0.1111111111111111, \"#46039f\"], [0.2222222222222222, \"#7201a8\"], [0.3333333333333333, \"#9c179e\"], [0.4444444444444444, \"#bd3786\"], [0.5555555555555556, \"#d8576b\"], [0.6666666666666666, \"#ed7953\"], [0.7777777777777778, \"#fb9f3a\"], [0.8888888888888888, \"#fdca26\"], [1.0, \"#f0f921\"]]}, \"colorway\": [\"#636efa\", \"#EF553B\", \"#00cc96\", \"#ab63fa\", \"#FFA15A\", \"#19d3f3\", \"#FF6692\", \"#B6E880\", \"#FF97FF\", \"#FECB52\"], \"font\": {\"color\": \"#2a3f5f\"}, \"geo\": {\"bgcolor\": \"white\", \"lakecolor\": \"white\", \"landcolor\": \"#E5ECF6\", \"showlakes\": true, \"showland\": true, \"subunitcolor\": \"white\"}, \"hoverlabel\": {\"align\": \"left\"}, \"hovermode\": \"closest\", \"mapbox\": {\"style\": \"light\"}, \"paper_bgcolor\": \"white\", \"plot_bgcolor\": \"#E5ECF6\", \"polar\": {\"angularaxis\": {\"gridcolor\": \"white\", \"linecolor\": \"white\", \"ticks\": \"\"}, \"bgcolor\": \"#E5ECF6\", \"radialaxis\": {\"gridcolor\": \"white\", \"linecolor\": \"white\", \"ticks\": \"\"}}, \"scene\": {\"xaxis\": {\"backgroundcolor\": \"#E5ECF6\", \"gridcolor\": \"white\", \"gridwidth\": 2, \"linecolor\": \"white\", \"showbackground\": true, \"ticks\": \"\", \"zerolinecolor\": \"white\"}, \"yaxis\": {\"backgroundcolor\": \"#E5ECF6\", \"gridcolor\": \"white\", \"gridwidth\": 2, \"linecolor\": \"white\", \"showbackground\": true, \"ticks\": \"\", \"zerolinecolor\": \"white\"}, \"zaxis\": {\"backgroundcolor\": \"#E5ECF6\", \"gridcolor\": \"white\", \"gridwidth\": 2, \"linecolor\": \"white\", \"showbackground\": true, \"ticks\": \"\", \"zerolinecolor\": \"white\"}}, \"shapedefaults\": {\"line\": {\"color\": \"#2a3f5f\"}}, \"ternary\": {\"aaxis\": {\"gridcolor\": \"white\", \"linecolor\": \"white\", \"ticks\": \"\"}, \"baxis\": {\"gridcolor\": \"white\", \"linecolor\": \"white\", \"ticks\": \"\"}, \"bgcolor\": \"#E5ECF6\", \"caxis\": {\"gridcolor\": \"white\", \"linecolor\": \"white\", \"ticks\": \"\"}}, \"title\": {\"x\": 0.05}, \"xaxis\": {\"automargin\": true, \"gridcolor\": \"white\", \"linecolor\": \"white\", \"ticks\": \"\", \"title\": {\"standoff\": 15}, \"zerolinecolor\": \"white\", \"zerolinewidth\": 2}, \"yaxis\": {\"automargin\": true, \"gridcolor\": \"white\", \"linecolor\": \"white\", \"ticks\": \"\", \"title\": {\"standoff\": 15}, \"zerolinecolor\": \"white\", \"zerolinewidth\": 2}}}, \"xaxis\": {\"ticklen\": 5, \"title\": {\"text\": \"ML Algorithms\"}, \"zeroline\": false}, \"yaxis\": {\"ticklen\": 5, \"title\": {\"text\": \"Prediction Scores\"}, \"zeroline\": false}},\n",
              "                        {\"responsive\": true}\n",
              "                    ).then(function(){\n",
              "                            \n",
              "var gd = document.getElementById('4bd868f0-15ba-4abf-b38c-cbd3b4d589d7');\n",
              "var x = new MutationObserver(function (mutations, observer) {{\n",
              "        var display = window.getComputedStyle(gd).display;\n",
              "        if (!display || display === 'none') {{\n",
              "            console.log([gd, 'removed!']);\n",
              "            Plotly.purge(gd);\n",
              "            observer.disconnect();\n",
              "        }}\n",
              "}});\n",
              "\n",
              "// Listen for the removal of the full notebook cells\n",
              "var notebookContainer = gd.closest('#notebook-container');\n",
              "if (notebookContainer) {{\n",
              "    x.observe(notebookContainer, {childList: true});\n",
              "}}\n",
              "\n",
              "// Listen for the clearing of the current output cell\n",
              "var outputEl = gd.closest('.output');\n",
              "if (outputEl) {{\n",
              "    x.observe(outputEl, {childList: true});\n",
              "}}\n",
              "\n",
              "                        })\n",
              "                };\n",
              "                \n",
              "            </script>\n",
              "        </div>\n",
              "</body>\n",
              "</html>"
            ]
          },
          "metadata": {
            "tags": []
          }
        }
      ]
    }
  ]
}
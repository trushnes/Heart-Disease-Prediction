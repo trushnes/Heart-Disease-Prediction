{
  "nbformat": 4,
  "nbformat_minor": 0,
  "metadata": {
    "colab": {
      "name": "Artificial_Neural_Network.ipynb",
      "provenance": [],
      "collapsed_sections": [],
      "include_colab_link": true
    },
    "kernelspec": {
      "name": "python3",
      "display_name": "Python 3"
    }
  },
  "cells": [
    {
      "cell_type": "markdown",
      "metadata": {
        "id": "view-in-github",
        "colab_type": "text"
      },
      "source": [
        "<a href=\"https://colab.research.google.com/github/trushnes/Heart-Disease-Prediction/blob/main/Artificial_Neural_Network.ipynb\" target=\"_parent\"><img src=\"https://colab.research.google.com/assets/colab-badge.svg\" alt=\"Open In Colab\"/></a>"
      ]
    },
    {
      "cell_type": "markdown",
      "metadata": {
        "id": "_bs4jmZQlJsD"
      },
      "source": [
        "## **1. Libraries Imported**"
      ]
    },
    {
      "cell_type": "code",
      "metadata": {
        "id": "8Rl0FG4zV5F0"
      },
      "source": [
        "import numpy as np\r\n",
        "import pandas as pd\r\n",
        "import matplotlib.pyplot as plt\r\n",
        "\r\n",
        "# preprocessing\r\n",
        "from sklearn.preprocessing import LabelEncoder\r\n",
        "from sklearn.model_selection import train_test_split, cross_val_score, GridSearchCV\r\n",
        "import pandas_profiling as pp\r\n",
        "\r\n",
        "from sklearn import metrics\r\n",
        "\r\n",
        "# NN models\r\n",
        "import keras\r\n",
        "from keras.models import Sequential\r\n",
        "from keras.layers import Dense, Dropout\r\n",
        "from keras import optimizers\r\n",
        "from keras.wrappers.scikit_learn import KerasClassifier\r\n",
        "from keras.callbacks import EarlyStopping, ModelCheckpoint\r\n"
      ],
      "execution_count": null,
      "outputs": []
    },
    {
      "cell_type": "code",
      "metadata": {
        "id": "mCCt4DCBdTHp"
      },
      "source": [
        "# import warnings filter\r\n",
        "from warnings import simplefilter\r\n",
        "# ignore all future warnings\r\n",
        "simplefilter(action='ignore', category=FutureWarning)"
      ],
      "execution_count": null,
      "outputs": []
    },
    {
      "cell_type": "markdown",
      "metadata": {
        "id": "C6FE0zaf62yG"
      },
      "source": [
        "## **2. Dataset & its Pre-processing**"
      ]
    },
    {
      "cell_type": "markdown",
      "metadata": {
        "id": "FOTTfbWcr0Vp"
      },
      "source": [
        "**Cleveland Heart Disease dataset** is downloaded from **UCI Machine Learning Repositary.** Dataset contains 75 attribtes. But every published experiment referred to using a subset of 14 of them. And thus we will also be using 14 attributes."
      ]
    },
    {
      "cell_type": "code",
      "metadata": {
        "colab": {
          "base_uri": "https://localhost:8080/"
        },
        "id": "AamS--Ij7BKp",
        "outputId": "663ce4e7-932e-405d-c758-2c1f2d66cbee"
      },
      "source": [
        "from google.colab import drive\r\n",
        "drive.mount(\"/content/drive\")"
      ],
      "execution_count": null,
      "outputs": [
        {
          "output_type": "stream",
          "text": [
            "Mounted at /content/drive\n"
          ],
          "name": "stdout"
        }
      ]
    },
    {
      "cell_type": "markdown",
      "metadata": {
        "id": "Vr1tAaE-tnwS"
      },
      "source": [
        "**Path for dataset**"
      ]
    },
    {
      "cell_type": "code",
      "metadata": {
        "id": "UkAct5YS8aR9"
      },
      "source": [
        "DATA_PATH = '/content/drive/MyDrive/Data/heart.csv'"
      ],
      "execution_count": null,
      "outputs": []
    },
    {
      "cell_type": "markdown",
      "metadata": {
        "id": "1yLSfUsNt0EP"
      },
      "source": [
        "**Function for loading the dataset from defined path and dividing attributes such that it gets stored in \"data\" & \"data_target\".**"
      ]
    },
    {
      "cell_type": "code",
      "metadata": {
        "id": "ImKRdr-47GTP"
      },
      "source": [
        "def load_data(data_path):\r\n",
        "  data = pd.read_csv(data_path)\r\n",
        "  target_name = 'target'\r\n",
        "  data_target = data[target_name]\r\n",
        "  data = data.drop([target_name], axis=1)\r\n",
        "  return data, data_target"
      ],
      "execution_count": null,
      "outputs": []
    },
    {
      "cell_type": "markdown",
      "metadata": {
        "id": "Tkd5Vd4Wyrmv"
      },
      "source": [
        "**Now dataset is splited into training, testing and validation part by 60:20:20 ratio.**"
      ]
    },
    {
      "cell_type": "code",
      "metadata": {
        "id": "U18byuKyo3l1"
      },
      "source": [
        "data, data_target = load_data(DATA_PATH)\r\n",
        "    #data = pd.read_csv('/content/sample_data/heart.csv')\r\n",
        "    #target_name = 'target'\r\n",
        "    #data_target = data[target_name]\r\n",
        "    #data = data.drop([target_name], axis=1)\r\n",
        "\r\n",
        "train, test, target, target_test = train_test_split(data, data_target, test_size=0.2)\r\n",
        "    \r\n",
        "mean = np.mean(train)\r\n",
        "std = np.std(train)\r\n",
        "\r\n",
        "    # normalization\r\n",
        "train = (train-mean)/(std+1e-7)\r\n",
        "test = (test-mean)/(std+1e-7)\r\n",
        "\r\n",
        "Xtrain, Xval, Ztrain, Zval = train_test_split(train, target, test_size=0.2)"
      ],
      "execution_count": null,
      "outputs": []
    },
    {
      "cell_type": "markdown",
      "metadata": {
        "id": "G0u5OfdVzHnl"
      },
      "source": [
        "**Function for plotting ACCURACY/LOSS FOR TRAINING/VALIDATION SET**"
      ]
    },
    {
      "cell_type": "code",
      "metadata": {
        "id": "UxXt1NDzkoTz"
      },
      "source": [
        "\r\n",
        "def plot_history(history): # Training history of model\r\n",
        "    plt.figure(figsize=(10, 10))\r\n",
        "\r\n",
        "    plt.subplot(2, 2, 1)\r\n",
        "    plt.plot(history.history['loss'], label='Loss')\r\n",
        "    plt.plot(history.history['val_loss'], label='Validation Loss')\r\n",
        "    plt.legend()\r\n",
        "    plt.title('Training - Loss Function')\r\n",
        "\r\n",
        "    plt.subplot(2, 2, 2)\r\n",
        "    plt.plot(history.history['accuracy'], label='Accuracy')\r\n",
        "    plt.plot(history.history['val_accuracy'], label='Validation Accuracy')\r\n",
        "    plt.legend()\r\n",
        "    plt.title('Train - Accuracy')"
      ],
      "execution_count": null,
      "outputs": []
    },
    {
      "cell_type": "markdown",
      "metadata": {
        "id": "KUPk5mHv8qav"
      },
      "source": [
        "## **3. ANN Model**"
      ]
    },
    {
      "cell_type": "code",
      "metadata": {
        "id": "2O89uIKdd6Uw"
      },
      "source": [
        "def build_ann(optimizer='adam'):\r\n",
        "\r\n",
        "    \r\n",
        "    ann = Sequential()\r\n",
        "\r\n",
        "    # Adding the input layer \r\n",
        "    ann.add(Dense(units=64, kernel_initializer='he_normal', activation='relu', input_shape=(len(train.columns),)))\r\n",
        "\r\n",
        "    #Hidden Layer\r\n",
        "    ann.add(Dense(units=64,activation = 'relu'))\r\n",
        "  \r\n",
        "    # Adding the output layer\r\n",
        "    ann.add(Dense(units=1, kernel_initializer='he_normal', activation='sigmoid'))\r\n",
        "\r\n",
        "    # Compiling the ANN\r\n",
        "    ann.compile(optimizer=optimizer, loss='binary_crossentropy', metrics=['accuracy'])\r\n",
        "\r\n",
        "    return ann"
      ],
      "execution_count": null,
      "outputs": []
    },
    {
      "cell_type": "code",
      "metadata": {
        "colab": {
          "base_uri": "https://localhost:8080/"
        },
        "id": "zg3isRiPrmyd",
        "outputId": "661240a7-970a-43ff-a9d1-9abc69b94e03"
      },
      "source": [
        "print(len(train.columns),)"
      ],
      "execution_count": null,
      "outputs": [
        {
          "output_type": "stream",
          "text": [
            "13\n"
          ],
          "name": "stdout"
        }
      ]
    },
    {
      "cell_type": "markdown",
      "metadata": {
        "id": "ftlmdDXU89W-"
      },
      "source": [
        "## **4. Runner Code**"
      ]
    },
    {
      "cell_type": "code",
      "metadata": {
        "colab": {
          "base_uri": "https://localhost:8080/"
        },
        "id": "jnpLLFaveAL7",
        "outputId": "7ea10f09-4815-4312-e72b-9892f78e61eb"
      },
      "source": [
        "if __name__ == \"__main__\":\r\n",
        "\r\n",
        "  #Xtrain, Xval, test, Ztrain, Zval, target_test = prepare_datasets(0.2, 0.2)\r\n",
        "  #Creating Network\r\n",
        "  opt = optimizers.Adam(lr=0.0001)\r\n",
        "  ann = build_ann(opt)\r\n",
        "\r\n",
        "  ann.summary()\r\n",
        "  # Training the ANN\r\n",
        "  history = ann.fit(Xtrain, Ztrain, batch_size=16, epochs=200, validation_data=(Xval, Zval))\r\n"
      ],
      "execution_count": null,
      "outputs": [
        {
          "output_type": "stream",
          "text": [
            "Model: \"sequential_5\"\n",
            "_________________________________________________________________\n",
            "Layer (type)                 Output Shape              Param #   \n",
            "=================================================================\n",
            "dense_15 (Dense)             (None, 64)                896       \n",
            "_________________________________________________________________\n",
            "dense_16 (Dense)             (None, 64)                4160      \n",
            "_________________________________________________________________\n",
            "dense_17 (Dense)             (None, 1)                 65        \n",
            "=================================================================\n",
            "Total params: 5,121\n",
            "Trainable params: 5,121\n",
            "Non-trainable params: 0\n",
            "_________________________________________________________________\n",
            "Epoch 1/200\n",
            "13/13 [==============================] - 1s 18ms/step - loss: 0.9107 - accuracy: 0.3458 - val_loss: 0.9941 - val_accuracy: 0.2449\n",
            "Epoch 2/200\n",
            "13/13 [==============================] - 0s 4ms/step - loss: 0.8608 - accuracy: 0.4026 - val_loss: 0.9586 - val_accuracy: 0.2857\n",
            "Epoch 3/200\n",
            "13/13 [==============================] - 0s 4ms/step - loss: 0.8060 - accuracy: 0.4403 - val_loss: 0.9239 - val_accuracy: 0.3469\n",
            "Epoch 4/200\n",
            "13/13 [==============================] - 0s 5ms/step - loss: 0.8031 - accuracy: 0.4087 - val_loss: 0.8870 - val_accuracy: 0.3878\n",
            "Epoch 5/200\n",
            "13/13 [==============================] - 0s 5ms/step - loss: 0.7774 - accuracy: 0.4697 - val_loss: 0.8534 - val_accuracy: 0.4082\n",
            "Epoch 6/200\n",
            "13/13 [==============================] - 0s 4ms/step - loss: 0.7546 - accuracy: 0.4936 - val_loss: 0.8205 - val_accuracy: 0.4286\n",
            "Epoch 7/200\n",
            "13/13 [==============================] - 0s 4ms/step - loss: 0.6785 - accuracy: 0.5859 - val_loss: 0.7939 - val_accuracy: 0.4286\n",
            "Epoch 8/200\n",
            "13/13 [==============================] - 0s 4ms/step - loss: 0.7033 - accuracy: 0.5606 - val_loss: 0.7718 - val_accuracy: 0.4694\n",
            "Epoch 9/200\n",
            "13/13 [==============================] - 0s 4ms/step - loss: 0.6911 - accuracy: 0.5857 - val_loss: 0.7441 - val_accuracy: 0.5102\n",
            "Epoch 10/200\n",
            "13/13 [==============================] - 0s 5ms/step - loss: 0.6555 - accuracy: 0.6407 - val_loss: 0.7217 - val_accuracy: 0.5102\n",
            "Epoch 11/200\n",
            "13/13 [==============================] - 0s 5ms/step - loss: 0.6428 - accuracy: 0.6534 - val_loss: 0.7006 - val_accuracy: 0.5714\n",
            "Epoch 12/200\n",
            "13/13 [==============================] - 0s 5ms/step - loss: 0.6117 - accuracy: 0.7003 - val_loss: 0.6902 - val_accuracy: 0.5918\n",
            "Epoch 13/200\n",
            "13/13 [==============================] - 0s 5ms/step - loss: 0.6115 - accuracy: 0.6834 - val_loss: 0.6777 - val_accuracy: 0.6327\n",
            "Epoch 14/200\n",
            "13/13 [==============================] - 0s 5ms/step - loss: 0.5707 - accuracy: 0.7563 - val_loss: 0.6608 - val_accuracy: 0.6531\n",
            "Epoch 15/200\n",
            "13/13 [==============================] - 0s 5ms/step - loss: 0.5799 - accuracy: 0.7570 - val_loss: 0.6497 - val_accuracy: 0.6531\n",
            "Epoch 16/200\n",
            "13/13 [==============================] - 0s 5ms/step - loss: 0.5749 - accuracy: 0.7652 - val_loss: 0.6392 - val_accuracy: 0.6531\n",
            "Epoch 17/200\n",
            "13/13 [==============================] - 0s 4ms/step - loss: 0.5440 - accuracy: 0.8086 - val_loss: 0.6285 - val_accuracy: 0.6735\n",
            "Epoch 18/200\n",
            "13/13 [==============================] - 0s 4ms/step - loss: 0.5313 - accuracy: 0.7922 - val_loss: 0.6181 - val_accuracy: 0.6735\n",
            "Epoch 19/200\n",
            "13/13 [==============================] - 0s 17ms/step - loss: 0.5469 - accuracy: 0.7721 - val_loss: 0.6054 - val_accuracy: 0.6735\n",
            "Epoch 20/200\n",
            "13/13 [==============================] - 0s 4ms/step - loss: 0.5395 - accuracy: 0.8011 - val_loss: 0.5926 - val_accuracy: 0.6939\n",
            "Epoch 21/200\n",
            "13/13 [==============================] - 0s 4ms/step - loss: 0.4923 - accuracy: 0.8347 - val_loss: 0.5797 - val_accuracy: 0.6939\n",
            "Epoch 22/200\n",
            "13/13 [==============================] - 0s 4ms/step - loss: 0.5004 - accuracy: 0.8068 - val_loss: 0.5687 - val_accuracy: 0.7143\n",
            "Epoch 23/200\n",
            "13/13 [==============================] - 0s 5ms/step - loss: 0.4796 - accuracy: 0.8173 - val_loss: 0.5610 - val_accuracy: 0.7143\n",
            "Epoch 24/200\n",
            "13/13 [==============================] - 0s 5ms/step - loss: 0.5033 - accuracy: 0.7898 - val_loss: 0.5561 - val_accuracy: 0.7143\n",
            "Epoch 25/200\n",
            "13/13 [==============================] - 0s 5ms/step - loss: 0.5350 - accuracy: 0.7533 - val_loss: 0.5513 - val_accuracy: 0.7143\n",
            "Epoch 26/200\n",
            "13/13 [==============================] - 0s 5ms/step - loss: 0.4624 - accuracy: 0.8100 - val_loss: 0.5448 - val_accuracy: 0.7143\n",
            "Epoch 27/200\n",
            "13/13 [==============================] - 0s 5ms/step - loss: 0.4468 - accuracy: 0.8438 - val_loss: 0.5357 - val_accuracy: 0.7143\n",
            "Epoch 28/200\n",
            "13/13 [==============================] - 0s 5ms/step - loss: 0.4669 - accuracy: 0.8256 - val_loss: 0.5274 - val_accuracy: 0.7143\n",
            "Epoch 29/200\n",
            "13/13 [==============================] - 0s 5ms/step - loss: 0.4722 - accuracy: 0.8214 - val_loss: 0.5227 - val_accuracy: 0.7347\n",
            "Epoch 30/200\n",
            "13/13 [==============================] - 0s 5ms/step - loss: 0.4439 - accuracy: 0.8301 - val_loss: 0.5191 - val_accuracy: 0.7551\n",
            "Epoch 31/200\n",
            "13/13 [==============================] - 0s 5ms/step - loss: 0.4820 - accuracy: 0.8012 - val_loss: 0.5158 - val_accuracy: 0.7551\n",
            "Epoch 32/200\n",
            "13/13 [==============================] - 0s 5ms/step - loss: 0.4500 - accuracy: 0.8052 - val_loss: 0.5069 - val_accuracy: 0.7551\n",
            "Epoch 33/200\n",
            "13/13 [==============================] - 0s 5ms/step - loss: 0.4305 - accuracy: 0.8130 - val_loss: 0.5017 - val_accuracy: 0.7551\n",
            "Epoch 34/200\n",
            "13/13 [==============================] - 0s 6ms/step - loss: 0.4327 - accuracy: 0.8264 - val_loss: 0.4959 - val_accuracy: 0.7551\n",
            "Epoch 35/200\n",
            "13/13 [==============================] - 0s 4ms/step - loss: 0.4438 - accuracy: 0.8261 - val_loss: 0.4902 - val_accuracy: 0.7551\n",
            "Epoch 36/200\n",
            "13/13 [==============================] - 0s 5ms/step - loss: 0.4199 - accuracy: 0.8433 - val_loss: 0.4834 - val_accuracy: 0.7755\n",
            "Epoch 37/200\n",
            "13/13 [==============================] - 0s 5ms/step - loss: 0.4199 - accuracy: 0.8126 - val_loss: 0.4799 - val_accuracy: 0.7755\n",
            "Epoch 38/200\n",
            "13/13 [==============================] - 0s 5ms/step - loss: 0.4063 - accuracy: 0.8211 - val_loss: 0.4763 - val_accuracy: 0.7755\n",
            "Epoch 39/200\n",
            "13/13 [==============================] - 0s 5ms/step - loss: 0.4038 - accuracy: 0.8562 - val_loss: 0.4709 - val_accuracy: 0.7755\n",
            "Epoch 40/200\n",
            "13/13 [==============================] - 0s 5ms/step - loss: 0.3941 - accuracy: 0.8501 - val_loss: 0.4655 - val_accuracy: 0.7755\n",
            "Epoch 41/200\n",
            "13/13 [==============================] - 0s 5ms/step - loss: 0.4115 - accuracy: 0.8216 - val_loss: 0.4607 - val_accuracy: 0.7755\n",
            "Epoch 42/200\n",
            "13/13 [==============================] - 0s 5ms/step - loss: 0.3603 - accuracy: 0.8670 - val_loss: 0.4591 - val_accuracy: 0.7755\n",
            "Epoch 43/200\n",
            "13/13 [==============================] - 0s 5ms/step - loss: 0.3834 - accuracy: 0.8449 - val_loss: 0.4584 - val_accuracy: 0.7755\n",
            "Epoch 44/200\n",
            "13/13 [==============================] - 0s 5ms/step - loss: 0.3790 - accuracy: 0.8497 - val_loss: 0.4560 - val_accuracy: 0.7755\n",
            "Epoch 45/200\n",
            "13/13 [==============================] - 0s 5ms/step - loss: 0.3338 - accuracy: 0.8815 - val_loss: 0.4496 - val_accuracy: 0.7755\n",
            "Epoch 46/200\n",
            "13/13 [==============================] - 0s 5ms/step - loss: 0.3693 - accuracy: 0.8519 - val_loss: 0.4456 - val_accuracy: 0.7755\n",
            "Epoch 47/200\n",
            "13/13 [==============================] - 0s 5ms/step - loss: 0.3660 - accuracy: 0.8393 - val_loss: 0.4400 - val_accuracy: 0.7959\n",
            "Epoch 48/200\n",
            "13/13 [==============================] - 0s 5ms/step - loss: 0.3630 - accuracy: 0.8632 - val_loss: 0.4385 - val_accuracy: 0.7959\n",
            "Epoch 49/200\n",
            "13/13 [==============================] - 0s 5ms/step - loss: 0.3707 - accuracy: 0.8512 - val_loss: 0.4377 - val_accuracy: 0.7959\n",
            "Epoch 50/200\n",
            "13/13 [==============================] - 0s 6ms/step - loss: 0.3824 - accuracy: 0.8275 - val_loss: 0.4361 - val_accuracy: 0.7959\n",
            "Epoch 51/200\n",
            "13/13 [==============================] - 0s 5ms/step - loss: 0.3617 - accuracy: 0.8298 - val_loss: 0.4313 - val_accuracy: 0.8163\n",
            "Epoch 52/200\n",
            "13/13 [==============================] - 0s 5ms/step - loss: 0.3642 - accuracy: 0.8342 - val_loss: 0.4297 - val_accuracy: 0.8163\n",
            "Epoch 53/200\n",
            "13/13 [==============================] - 0s 5ms/step - loss: 0.3288 - accuracy: 0.8807 - val_loss: 0.4284 - val_accuracy: 0.8163\n",
            "Epoch 54/200\n",
            "13/13 [==============================] - 0s 5ms/step - loss: 0.3542 - accuracy: 0.8574 - val_loss: 0.4282 - val_accuracy: 0.8163\n",
            "Epoch 55/200\n",
            "13/13 [==============================] - 0s 5ms/step - loss: 0.3460 - accuracy: 0.8580 - val_loss: 0.4250 - val_accuracy: 0.7959\n",
            "Epoch 56/200\n",
            "13/13 [==============================] - 0s 5ms/step - loss: 0.3488 - accuracy: 0.8514 - val_loss: 0.4237 - val_accuracy: 0.7959\n",
            "Epoch 57/200\n",
            "13/13 [==============================] - 0s 5ms/step - loss: 0.3636 - accuracy: 0.8428 - val_loss: 0.4241 - val_accuracy: 0.7959\n",
            "Epoch 58/200\n",
            "13/13 [==============================] - 0s 5ms/step - loss: 0.3290 - accuracy: 0.8731 - val_loss: 0.4242 - val_accuracy: 0.7959\n",
            "Epoch 59/200\n",
            "13/13 [==============================] - 0s 5ms/step - loss: 0.3717 - accuracy: 0.8254 - val_loss: 0.4255 - val_accuracy: 0.7959\n",
            "Epoch 60/200\n",
            "13/13 [==============================] - 0s 4ms/step - loss: 0.3260 - accuracy: 0.8671 - val_loss: 0.4259 - val_accuracy: 0.7959\n",
            "Epoch 61/200\n",
            "13/13 [==============================] - 0s 4ms/step - loss: 0.3474 - accuracy: 0.8441 - val_loss: 0.4240 - val_accuracy: 0.7959\n",
            "Epoch 62/200\n",
            "13/13 [==============================] - 0s 5ms/step - loss: 0.3697 - accuracy: 0.8406 - val_loss: 0.4219 - val_accuracy: 0.7959\n",
            "Epoch 63/200\n",
            "13/13 [==============================] - 0s 5ms/step - loss: 0.3578 - accuracy: 0.8557 - val_loss: 0.4218 - val_accuracy: 0.7959\n",
            "Epoch 64/200\n",
            "13/13 [==============================] - 0s 5ms/step - loss: 0.3692 - accuracy: 0.8328 - val_loss: 0.4227 - val_accuracy: 0.7959\n",
            "Epoch 65/200\n",
            "13/13 [==============================] - 0s 15ms/step - loss: 0.3106 - accuracy: 0.8741 - val_loss: 0.4216 - val_accuracy: 0.7959\n",
            "Epoch 66/200\n",
            "13/13 [==============================] - 0s 5ms/step - loss: 0.3153 - accuracy: 0.8670 - val_loss: 0.4194 - val_accuracy: 0.7959\n",
            "Epoch 67/200\n",
            "13/13 [==============================] - 0s 4ms/step - loss: 0.2807 - accuracy: 0.9009 - val_loss: 0.4196 - val_accuracy: 0.7959\n",
            "Epoch 68/200\n",
            "13/13 [==============================] - 0s 5ms/step - loss: 0.3205 - accuracy: 0.8594 - val_loss: 0.4171 - val_accuracy: 0.7959\n",
            "Epoch 69/200\n",
            "13/13 [==============================] - 0s 5ms/step - loss: 0.3537 - accuracy: 0.8460 - val_loss: 0.4161 - val_accuracy: 0.7959\n",
            "Epoch 70/200\n",
            "13/13 [==============================] - 0s 5ms/step - loss: 0.2690 - accuracy: 0.9242 - val_loss: 0.4141 - val_accuracy: 0.7959\n",
            "Epoch 71/200\n",
            "13/13 [==============================] - 0s 5ms/step - loss: 0.3190 - accuracy: 0.8572 - val_loss: 0.4127 - val_accuracy: 0.7959\n",
            "Epoch 72/200\n",
            "13/13 [==============================] - 0s 5ms/step - loss: 0.3424 - accuracy: 0.8432 - val_loss: 0.4126 - val_accuracy: 0.7959\n",
            "Epoch 73/200\n",
            "13/13 [==============================] - 0s 5ms/step - loss: 0.3337 - accuracy: 0.8512 - val_loss: 0.4115 - val_accuracy: 0.7959\n",
            "Epoch 74/200\n",
            "13/13 [==============================] - 0s 5ms/step - loss: 0.2893 - accuracy: 0.8759 - val_loss: 0.4119 - val_accuracy: 0.7959\n",
            "Epoch 75/200\n",
            "13/13 [==============================] - 0s 5ms/step - loss: 0.3072 - accuracy: 0.8657 - val_loss: 0.4117 - val_accuracy: 0.7959\n",
            "Epoch 76/200\n",
            "13/13 [==============================] - 0s 5ms/step - loss: 0.3003 - accuracy: 0.8804 - val_loss: 0.4135 - val_accuracy: 0.8163\n",
            "Epoch 77/200\n",
            "13/13 [==============================] - 0s 5ms/step - loss: 0.3323 - accuracy: 0.8545 - val_loss: 0.4098 - val_accuracy: 0.8163\n",
            "Epoch 78/200\n",
            "13/13 [==============================] - 0s 6ms/step - loss: 0.3603 - accuracy: 0.8318 - val_loss: 0.4080 - val_accuracy: 0.7959\n",
            "Epoch 79/200\n",
            "13/13 [==============================] - 0s 5ms/step - loss: 0.2984 - accuracy: 0.8973 - val_loss: 0.4064 - val_accuracy: 0.7959\n",
            "Epoch 80/200\n",
            "13/13 [==============================] - 0s 5ms/step - loss: 0.3166 - accuracy: 0.8800 - val_loss: 0.4050 - val_accuracy: 0.7959\n",
            "Epoch 81/200\n",
            "13/13 [==============================] - 0s 5ms/step - loss: 0.3214 - accuracy: 0.8562 - val_loss: 0.4046 - val_accuracy: 0.8163\n",
            "Epoch 82/200\n",
            "13/13 [==============================] - 0s 5ms/step - loss: 0.3146 - accuracy: 0.8362 - val_loss: 0.4043 - val_accuracy: 0.8163\n",
            "Epoch 83/200\n",
            "13/13 [==============================] - 0s 5ms/step - loss: 0.3092 - accuracy: 0.8602 - val_loss: 0.4037 - val_accuracy: 0.8163\n",
            "Epoch 84/200\n",
            "13/13 [==============================] - 0s 5ms/step - loss: 0.2993 - accuracy: 0.8798 - val_loss: 0.4053 - val_accuracy: 0.7959\n",
            "Epoch 85/200\n",
            "13/13 [==============================] - 0s 5ms/step - loss: 0.3004 - accuracy: 0.8734 - val_loss: 0.4067 - val_accuracy: 0.7959\n",
            "Epoch 86/200\n",
            "13/13 [==============================] - 0s 5ms/step - loss: 0.2882 - accuracy: 0.8978 - val_loss: 0.4098 - val_accuracy: 0.7959\n",
            "Epoch 87/200\n",
            "13/13 [==============================] - 0s 5ms/step - loss: 0.3070 - accuracy: 0.8842 - val_loss: 0.4098 - val_accuracy: 0.7959\n",
            "Epoch 88/200\n",
            "13/13 [==============================] - 0s 5ms/step - loss: 0.2741 - accuracy: 0.8929 - val_loss: 0.4121 - val_accuracy: 0.7959\n",
            "Epoch 89/200\n",
            "13/13 [==============================] - 0s 5ms/step - loss: 0.3061 - accuracy: 0.8691 - val_loss: 0.4125 - val_accuracy: 0.7959\n",
            "Epoch 90/200\n",
            "13/13 [==============================] - 0s 5ms/step - loss: 0.3107 - accuracy: 0.8457 - val_loss: 0.4122 - val_accuracy: 0.7959\n",
            "Epoch 91/200\n",
            "13/13 [==============================] - 0s 5ms/step - loss: 0.2774 - accuracy: 0.8959 - val_loss: 0.4126 - val_accuracy: 0.7959\n",
            "Epoch 92/200\n",
            "13/13 [==============================] - 0s 5ms/step - loss: 0.2821 - accuracy: 0.8902 - val_loss: 0.4134 - val_accuracy: 0.7959\n",
            "Epoch 93/200\n",
            "13/13 [==============================] - 0s 5ms/step - loss: 0.2662 - accuracy: 0.8696 - val_loss: 0.4123 - val_accuracy: 0.7959\n",
            "Epoch 94/200\n",
            "13/13 [==============================] - 0s 5ms/step - loss: 0.2999 - accuracy: 0.8714 - val_loss: 0.4146 - val_accuracy: 0.7959\n",
            "Epoch 95/200\n",
            "13/13 [==============================] - 0s 5ms/step - loss: 0.2996 - accuracy: 0.8799 - val_loss: 0.4177 - val_accuracy: 0.7959\n",
            "Epoch 96/200\n",
            "13/13 [==============================] - 0s 5ms/step - loss: 0.2794 - accuracy: 0.8880 - val_loss: 0.4161 - val_accuracy: 0.7959\n",
            "Epoch 97/200\n",
            "13/13 [==============================] - 0s 5ms/step - loss: 0.2774 - accuracy: 0.8935 - val_loss: 0.4180 - val_accuracy: 0.8163\n",
            "Epoch 98/200\n",
            "13/13 [==============================] - 0s 5ms/step - loss: 0.2805 - accuracy: 0.8865 - val_loss: 0.4207 - val_accuracy: 0.8163\n",
            "Epoch 99/200\n",
            "13/13 [==============================] - 0s 6ms/step - loss: 0.2913 - accuracy: 0.8791 - val_loss: 0.4182 - val_accuracy: 0.7959\n",
            "Epoch 100/200\n",
            "13/13 [==============================] - 0s 5ms/step - loss: 0.2468 - accuracy: 0.9085 - val_loss: 0.4155 - val_accuracy: 0.8163\n",
            "Epoch 101/200\n",
            "13/13 [==============================] - 0s 5ms/step - loss: 0.2556 - accuracy: 0.9070 - val_loss: 0.4147 - val_accuracy: 0.8163\n",
            "Epoch 102/200\n",
            "13/13 [==============================] - 0s 6ms/step - loss: 0.2674 - accuracy: 0.9031 - val_loss: 0.4170 - val_accuracy: 0.8163\n",
            "Epoch 103/200\n",
            "13/13 [==============================] - 0s 5ms/step - loss: 0.2901 - accuracy: 0.8916 - val_loss: 0.4169 - val_accuracy: 0.8163\n",
            "Epoch 104/200\n",
            "13/13 [==============================] - 0s 5ms/step - loss: 0.2994 - accuracy: 0.8598 - val_loss: 0.4180 - val_accuracy: 0.8163\n",
            "Epoch 105/200\n",
            "13/13 [==============================] - 0s 5ms/step - loss: 0.3258 - accuracy: 0.8529 - val_loss: 0.4183 - val_accuracy: 0.8163\n",
            "Epoch 106/200\n",
            "13/13 [==============================] - 0s 5ms/step - loss: 0.3298 - accuracy: 0.8394 - val_loss: 0.4208 - val_accuracy: 0.7959\n",
            "Epoch 107/200\n",
            "13/13 [==============================] - 0s 5ms/step - loss: 0.2905 - accuracy: 0.8807 - val_loss: 0.4235 - val_accuracy: 0.7959\n",
            "Epoch 108/200\n",
            "13/13 [==============================] - 0s 5ms/step - loss: 0.3110 - accuracy: 0.8650 - val_loss: 0.4253 - val_accuracy: 0.7959\n",
            "Epoch 109/200\n",
            "13/13 [==============================] - 0s 5ms/step - loss: 0.2680 - accuracy: 0.8826 - val_loss: 0.4226 - val_accuracy: 0.7959\n",
            "Epoch 110/200\n",
            "13/13 [==============================] - 0s 6ms/step - loss: 0.2867 - accuracy: 0.8732 - val_loss: 0.4235 - val_accuracy: 0.7959\n",
            "Epoch 111/200\n",
            "13/13 [==============================] - 0s 15ms/step - loss: 0.3040 - accuracy: 0.8803 - val_loss: 0.4266 - val_accuracy: 0.8163\n",
            "Epoch 112/200\n",
            "13/13 [==============================] - 0s 5ms/step - loss: 0.3039 - accuracy: 0.8672 - val_loss: 0.4309 - val_accuracy: 0.8163\n",
            "Epoch 113/200\n",
            "13/13 [==============================] - 0s 5ms/step - loss: 0.2625 - accuracy: 0.9120 - val_loss: 0.4303 - val_accuracy: 0.8163\n",
            "Epoch 114/200\n",
            "13/13 [==============================] - 0s 5ms/step - loss: 0.2970 - accuracy: 0.8735 - val_loss: 0.4283 - val_accuracy: 0.8163\n",
            "Epoch 115/200\n",
            "13/13 [==============================] - 0s 5ms/step - loss: 0.2968 - accuracy: 0.8665 - val_loss: 0.4271 - val_accuracy: 0.8163\n",
            "Epoch 116/200\n",
            "13/13 [==============================] - 0s 5ms/step - loss: 0.2303 - accuracy: 0.9133 - val_loss: 0.4275 - val_accuracy: 0.7959\n",
            "Epoch 117/200\n",
            "13/13 [==============================] - 0s 5ms/step - loss: 0.3045 - accuracy: 0.8682 - val_loss: 0.4297 - val_accuracy: 0.7959\n",
            "Epoch 118/200\n",
            "13/13 [==============================] - 0s 6ms/step - loss: 0.2853 - accuracy: 0.8804 - val_loss: 0.4295 - val_accuracy: 0.7959\n",
            "Epoch 119/200\n",
            "13/13 [==============================] - 0s 5ms/step - loss: 0.2793 - accuracy: 0.8676 - val_loss: 0.4313 - val_accuracy: 0.8163\n",
            "Epoch 120/200\n",
            "13/13 [==============================] - 0s 5ms/step - loss: 0.2690 - accuracy: 0.8708 - val_loss: 0.4326 - val_accuracy: 0.8163\n",
            "Epoch 121/200\n",
            "13/13 [==============================] - 0s 5ms/step - loss: 0.2623 - accuracy: 0.8982 - val_loss: 0.4351 - val_accuracy: 0.8163\n",
            "Epoch 122/200\n",
            "13/13 [==============================] - 0s 5ms/step - loss: 0.2366 - accuracy: 0.9068 - val_loss: 0.4374 - val_accuracy: 0.8163\n",
            "Epoch 123/200\n",
            "13/13 [==============================] - 0s 6ms/step - loss: 0.2805 - accuracy: 0.8854 - val_loss: 0.4359 - val_accuracy: 0.8163\n",
            "Epoch 124/200\n",
            "13/13 [==============================] - 0s 6ms/step - loss: 0.2532 - accuracy: 0.8859 - val_loss: 0.4361 - val_accuracy: 0.8163\n",
            "Epoch 125/200\n",
            "13/13 [==============================] - 0s 5ms/step - loss: 0.2707 - accuracy: 0.8870 - val_loss: 0.4359 - val_accuracy: 0.8163\n",
            "Epoch 126/200\n",
            "13/13 [==============================] - 0s 5ms/step - loss: 0.2654 - accuracy: 0.9059 - val_loss: 0.4364 - val_accuracy: 0.8163\n",
            "Epoch 127/200\n",
            "13/13 [==============================] - 0s 5ms/step - loss: 0.2481 - accuracy: 0.8971 - val_loss: 0.4372 - val_accuracy: 0.8163\n",
            "Epoch 128/200\n",
            "13/13 [==============================] - 0s 5ms/step - loss: 0.2506 - accuracy: 0.9157 - val_loss: 0.4389 - val_accuracy: 0.8163\n",
            "Epoch 129/200\n",
            "13/13 [==============================] - 0s 6ms/step - loss: 0.2443 - accuracy: 0.8953 - val_loss: 0.4411 - val_accuracy: 0.8163\n",
            "Epoch 130/200\n",
            "13/13 [==============================] - 0s 5ms/step - loss: 0.2499 - accuracy: 0.9057 - val_loss: 0.4383 - val_accuracy: 0.8163\n",
            "Epoch 131/200\n",
            "13/13 [==============================] - 0s 5ms/step - loss: 0.2541 - accuracy: 0.8855 - val_loss: 0.4358 - val_accuracy: 0.8163\n",
            "Epoch 132/200\n",
            "13/13 [==============================] - 0s 5ms/step - loss: 0.2390 - accuracy: 0.9110 - val_loss: 0.4355 - val_accuracy: 0.8163\n",
            "Epoch 133/200\n",
            "13/13 [==============================] - 0s 5ms/step - loss: 0.2445 - accuracy: 0.9104 - val_loss: 0.4341 - val_accuracy: 0.8163\n",
            "Epoch 134/200\n",
            "13/13 [==============================] - 0s 5ms/step - loss: 0.2619 - accuracy: 0.8799 - val_loss: 0.4351 - val_accuracy: 0.8163\n",
            "Epoch 135/200\n",
            "13/13 [==============================] - 0s 5ms/step - loss: 0.2753 - accuracy: 0.8769 - val_loss: 0.4377 - val_accuracy: 0.8163\n",
            "Epoch 136/200\n",
            "13/13 [==============================] - 0s 6ms/step - loss: 0.2678 - accuracy: 0.8807 - val_loss: 0.4395 - val_accuracy: 0.7959\n",
            "Epoch 137/200\n",
            "13/13 [==============================] - 0s 5ms/step - loss: 0.2366 - accuracy: 0.9032 - val_loss: 0.4393 - val_accuracy: 0.8163\n",
            "Epoch 138/200\n",
            "13/13 [==============================] - 0s 5ms/step - loss: 0.2791 - accuracy: 0.8915 - val_loss: 0.4382 - val_accuracy: 0.8163\n",
            "Epoch 139/200\n",
            "13/13 [==============================] - 0s 5ms/step - loss: 0.3090 - accuracy: 0.8380 - val_loss: 0.4368 - val_accuracy: 0.8163\n",
            "Epoch 140/200\n",
            "13/13 [==============================] - 0s 6ms/step - loss: 0.2318 - accuracy: 0.9017 - val_loss: 0.4390 - val_accuracy: 0.8163\n",
            "Epoch 141/200\n",
            "13/13 [==============================] - 0s 5ms/step - loss: 0.2328 - accuracy: 0.9200 - val_loss: 0.4398 - val_accuracy: 0.7959\n",
            "Epoch 142/200\n",
            "13/13 [==============================] - 0s 5ms/step - loss: 0.2352 - accuracy: 0.9104 - val_loss: 0.4445 - val_accuracy: 0.7959\n",
            "Epoch 143/200\n",
            "13/13 [==============================] - 0s 5ms/step - loss: 0.2800 - accuracy: 0.8949 - val_loss: 0.4469 - val_accuracy: 0.7959\n",
            "Epoch 144/200\n",
            "13/13 [==============================] - 0s 5ms/step - loss: 0.2238 - accuracy: 0.9016 - val_loss: 0.4473 - val_accuracy: 0.7959\n",
            "Epoch 145/200\n",
            "13/13 [==============================] - 0s 6ms/step - loss: 0.2439 - accuracy: 0.9105 - val_loss: 0.4453 - val_accuracy: 0.7959\n",
            "Epoch 146/200\n",
            "13/13 [==============================] - 0s 5ms/step - loss: 0.2682 - accuracy: 0.8986 - val_loss: 0.4440 - val_accuracy: 0.7959\n",
            "Epoch 147/200\n",
            "13/13 [==============================] - 0s 5ms/step - loss: 0.2368 - accuracy: 0.9141 - val_loss: 0.4440 - val_accuracy: 0.7959\n",
            "Epoch 148/200\n",
            "13/13 [==============================] - 0s 5ms/step - loss: 0.2521 - accuracy: 0.9018 - val_loss: 0.4422 - val_accuracy: 0.8163\n",
            "Epoch 149/200\n",
            "13/13 [==============================] - 0s 6ms/step - loss: 0.2248 - accuracy: 0.9021 - val_loss: 0.4431 - val_accuracy: 0.8163\n",
            "Epoch 150/200\n",
            "13/13 [==============================] - 0s 6ms/step - loss: 0.2474 - accuracy: 0.8893 - val_loss: 0.4362 - val_accuracy: 0.8163\n",
            "Epoch 151/200\n",
            "13/13 [==============================] - 0s 5ms/step - loss: 0.2297 - accuracy: 0.8886 - val_loss: 0.4352 - val_accuracy: 0.8163\n",
            "Epoch 152/200\n",
            "13/13 [==============================] - 0s 5ms/step - loss: 0.2359 - accuracy: 0.9002 - val_loss: 0.4356 - val_accuracy: 0.8163\n",
            "Epoch 153/200\n",
            "13/13 [==============================] - 0s 5ms/step - loss: 0.2262 - accuracy: 0.9086 - val_loss: 0.4390 - val_accuracy: 0.8163\n",
            "Epoch 154/200\n",
            "13/13 [==============================] - 0s 5ms/step - loss: 0.2423 - accuracy: 0.9061 - val_loss: 0.4401 - val_accuracy: 0.8367\n",
            "Epoch 155/200\n",
            "13/13 [==============================] - 0s 6ms/step - loss: 0.2744 - accuracy: 0.8825 - val_loss: 0.4402 - val_accuracy: 0.7959\n",
            "Epoch 156/200\n",
            "13/13 [==============================] - 0s 5ms/step - loss: 0.2668 - accuracy: 0.8897 - val_loss: 0.4385 - val_accuracy: 0.8163\n",
            "Epoch 157/200\n",
            "13/13 [==============================] - 0s 15ms/step - loss: 0.2276 - accuracy: 0.9175 - val_loss: 0.4369 - val_accuracy: 0.8163\n",
            "Epoch 158/200\n",
            "13/13 [==============================] - 0s 5ms/step - loss: 0.2251 - accuracy: 0.9087 - val_loss: 0.4354 - val_accuracy: 0.8163\n",
            "Epoch 159/200\n",
            "13/13 [==============================] - 0s 5ms/step - loss: 0.2497 - accuracy: 0.9118 - val_loss: 0.4341 - val_accuracy: 0.8163\n",
            "Epoch 160/200\n",
            "13/13 [==============================] - 0s 5ms/step - loss: 0.1975 - accuracy: 0.9274 - val_loss: 0.4354 - val_accuracy: 0.8163\n",
            "Epoch 161/200\n",
            "13/13 [==============================] - 0s 5ms/step - loss: 0.2679 - accuracy: 0.8738 - val_loss: 0.4388 - val_accuracy: 0.8163\n",
            "Epoch 162/200\n",
            "13/13 [==============================] - 0s 5ms/step - loss: 0.2255 - accuracy: 0.9279 - val_loss: 0.4409 - val_accuracy: 0.8163\n",
            "Epoch 163/200\n",
            "13/13 [==============================] - 0s 5ms/step - loss: 0.2161 - accuracy: 0.9199 - val_loss: 0.4448 - val_accuracy: 0.8163\n",
            "Epoch 164/200\n",
            "13/13 [==============================] - 0s 5ms/step - loss: 0.1941 - accuracy: 0.9469 - val_loss: 0.4464 - val_accuracy: 0.8163\n",
            "Epoch 165/200\n",
            "13/13 [==============================] - 0s 5ms/step - loss: 0.2116 - accuracy: 0.9278 - val_loss: 0.4489 - val_accuracy: 0.8163\n",
            "Epoch 166/200\n",
            "13/13 [==============================] - 0s 5ms/step - loss: 0.2382 - accuracy: 0.9038 - val_loss: 0.4484 - val_accuracy: 0.8163\n",
            "Epoch 167/200\n",
            "13/13 [==============================] - 0s 5ms/step - loss: 0.2337 - accuracy: 0.9171 - val_loss: 0.4486 - val_accuracy: 0.8163\n",
            "Epoch 168/200\n",
            "13/13 [==============================] - 0s 5ms/step - loss: 0.2197 - accuracy: 0.9360 - val_loss: 0.4491 - val_accuracy: 0.8163\n",
            "Epoch 169/200\n",
            "13/13 [==============================] - 0s 5ms/step - loss: 0.2365 - accuracy: 0.9120 - val_loss: 0.4495 - val_accuracy: 0.8163\n",
            "Epoch 170/200\n",
            "13/13 [==============================] - 0s 6ms/step - loss: 0.2584 - accuracy: 0.9127 - val_loss: 0.4510 - val_accuracy: 0.8163\n",
            "Epoch 171/200\n",
            "13/13 [==============================] - 0s 5ms/step - loss: 0.2335 - accuracy: 0.9238 - val_loss: 0.4508 - val_accuracy: 0.8163\n",
            "Epoch 172/200\n",
            "13/13 [==============================] - 0s 5ms/step - loss: 0.2007 - accuracy: 0.9222 - val_loss: 0.4527 - val_accuracy: 0.8163\n",
            "Epoch 173/200\n",
            "13/13 [==============================] - 0s 5ms/step - loss: 0.2071 - accuracy: 0.9141 - val_loss: 0.4528 - val_accuracy: 0.8163\n",
            "Epoch 174/200\n",
            "13/13 [==============================] - 0s 5ms/step - loss: 0.2174 - accuracy: 0.9169 - val_loss: 0.4530 - val_accuracy: 0.8163\n",
            "Epoch 175/200\n",
            "13/13 [==============================] - 0s 5ms/step - loss: 0.2250 - accuracy: 0.9039 - val_loss: 0.4528 - val_accuracy: 0.8163\n",
            "Epoch 176/200\n",
            "13/13 [==============================] - 0s 5ms/step - loss: 0.1789 - accuracy: 0.9304 - val_loss: 0.4539 - val_accuracy: 0.8163\n",
            "Epoch 177/200\n",
            "13/13 [==============================] - 0s 6ms/step - loss: 0.1974 - accuracy: 0.9303 - val_loss: 0.4566 - val_accuracy: 0.8163\n",
            "Epoch 178/200\n",
            "13/13 [==============================] - 0s 5ms/step - loss: 0.1948 - accuracy: 0.9280 - val_loss: 0.4687 - val_accuracy: 0.8163\n",
            "Epoch 179/200\n",
            "13/13 [==============================] - 0s 5ms/step - loss: 0.2061 - accuracy: 0.9311 - val_loss: 0.4691 - val_accuracy: 0.8163\n",
            "Epoch 180/200\n",
            "13/13 [==============================] - 0s 6ms/step - loss: 0.2042 - accuracy: 0.9318 - val_loss: 0.4692 - val_accuracy: 0.8163\n",
            "Epoch 181/200\n",
            "13/13 [==============================] - 0s 6ms/step - loss: 0.2221 - accuracy: 0.9228 - val_loss: 0.4693 - val_accuracy: 0.8163\n",
            "Epoch 182/200\n",
            "13/13 [==============================] - 0s 5ms/step - loss: 0.1748 - accuracy: 0.9653 - val_loss: 0.4706 - val_accuracy: 0.8163\n",
            "Epoch 183/200\n",
            "13/13 [==============================] - 0s 5ms/step - loss: 0.1760 - accuracy: 0.9441 - val_loss: 0.4703 - val_accuracy: 0.8163\n",
            "Epoch 184/200\n",
            "13/13 [==============================] - 0s 5ms/step - loss: 0.2055 - accuracy: 0.9422 - val_loss: 0.4717 - val_accuracy: 0.8163\n",
            "Epoch 185/200\n",
            "13/13 [==============================] - 0s 5ms/step - loss: 0.2062 - accuracy: 0.9512 - val_loss: 0.4682 - val_accuracy: 0.8163\n",
            "Epoch 186/200\n",
            "13/13 [==============================] - 0s 5ms/step - loss: 0.2003 - accuracy: 0.9492 - val_loss: 0.4677 - val_accuracy: 0.8163\n",
            "Epoch 187/200\n",
            "13/13 [==============================] - 0s 5ms/step - loss: 0.2401 - accuracy: 0.9399 - val_loss: 0.4686 - val_accuracy: 0.8163\n",
            "Epoch 188/200\n",
            "13/13 [==============================] - 0s 5ms/step - loss: 0.2007 - accuracy: 0.9425 - val_loss: 0.4687 - val_accuracy: 0.8163\n",
            "Epoch 189/200\n",
            "13/13 [==============================] - 0s 5ms/step - loss: 0.1964 - accuracy: 0.9675 - val_loss: 0.4682 - val_accuracy: 0.8163\n",
            "Epoch 190/200\n",
            "13/13 [==============================] - 0s 5ms/step - loss: 0.2375 - accuracy: 0.9407 - val_loss: 0.4683 - val_accuracy: 0.8163\n",
            "Epoch 191/200\n",
            "13/13 [==============================] - 0s 5ms/step - loss: 0.2020 - accuracy: 0.9593 - val_loss: 0.4636 - val_accuracy: 0.7959\n",
            "Epoch 192/200\n",
            "13/13 [==============================] - 0s 6ms/step - loss: 0.1890 - accuracy: 0.9598 - val_loss: 0.4662 - val_accuracy: 0.7959\n",
            "Epoch 193/200\n",
            "13/13 [==============================] - 0s 5ms/step - loss: 0.2229 - accuracy: 0.9379 - val_loss: 0.4679 - val_accuracy: 0.7959\n",
            "Epoch 194/200\n",
            "13/13 [==============================] - 0s 5ms/step - loss: 0.1993 - accuracy: 0.9542 - val_loss: 0.4671 - val_accuracy: 0.7959\n",
            "Epoch 195/200\n",
            "13/13 [==============================] - 0s 5ms/step - loss: 0.1928 - accuracy: 0.9588 - val_loss: 0.4676 - val_accuracy: 0.7959\n",
            "Epoch 196/200\n",
            "13/13 [==============================] - 0s 5ms/step - loss: 0.1857 - accuracy: 0.9603 - val_loss: 0.4682 - val_accuracy: 0.7959\n",
            "Epoch 197/200\n",
            "13/13 [==============================] - 0s 5ms/step - loss: 0.1747 - accuracy: 0.9626 - val_loss: 0.4706 - val_accuracy: 0.7959\n",
            "Epoch 198/200\n",
            "13/13 [==============================] - 0s 5ms/step - loss: 0.1982 - accuracy: 0.9593 - val_loss: 0.4709 - val_accuracy: 0.7959\n",
            "Epoch 199/200\n",
            "13/13 [==============================] - 0s 5ms/step - loss: 0.1882 - accuracy: 0.9670 - val_loss: 0.4716 - val_accuracy: 0.7959\n",
            "Epoch 200/200\n",
            "13/13 [==============================] - 0s 5ms/step - loss: 0.1932 - accuracy: 0.9461 - val_loss: 0.4727 - val_accuracy: 0.7959\n"
          ],
          "name": "stdout"
        }
      ]
    },
    {
      "cell_type": "markdown",
      "metadata": {
        "id": "n0xHrZ1vrOOn"
      },
      "source": [
        "**PLOT FOR ACCURACY/LOSS FOR TRAINING/VALIDATION SET**"
      ]
    },
    {
      "cell_type": "code",
      "metadata": {
        "colab": {
          "base_uri": "https://localhost:8080/",
          "height": 311
        },
        "id": "9LyQxvw-k4ht",
        "outputId": "95facc5d-5351-4829-b7ae-55b8b29f479a"
      },
      "source": [
        "plot_history(history)"
      ],
      "execution_count": null,
      "outputs": [
        {
          "output_type": "display_data",
          "data": {
            "image/png": "[encoded data removed]",
            "text/plain": [
              "<Figure size 720x720 with 2 Axes>"
            ]
          },
          "metadata": {
            "tags": [],
            "needs_background": "light"
          }
        }
      ]
    },
    {
      "cell_type": "markdown",
      "metadata": {
        "id": "IMMpr7_YrGJR"
      },
      "source": [
        "## **5. Evaluation**"
      ]
    },
    {
      "cell_type": "code",
      "metadata": {
        "colab": {
          "base_uri": "https://localhost:8080/"
        },
        "id": "fMi6Mg3wqHA_",
        "outputId": "557999ae-49fb-42da-e842-1c42809a0a93"
      },
      "source": [
        "# evaluate model on test set\r\n",
        "test_loss, test_acc = ann.evaluate(test, target_test, verbose=0)\r\n",
        "print('\\nTest accuracy:', test_acc)\r\n",
        "print('\\nTest loss: ',test_loss)"
      ],
      "execution_count": null,
      "outputs": [
        {
          "output_type": "stream",
          "text": [
            "\n",
            "Test accuracy: 0.8360655903816223\n",
            "\n",
            "Test loss:  0.3299190402030945\n"
          ],
          "name": "stdout"
        }
      ]
    },
    {
      "cell_type": "markdown",
      "metadata": {
        "id": "04UL8KfUrcEE"
      },
      "source": [
        "## **6. Confusion Matrix**"
      ]
    },
    {
      "cell_type": "code",
      "metadata": {
        "colab": {
          "base_uri": "https://localhost:8080/",
          "height": 338
        },
        "id": "yPrxo3hWOE2T",
        "outputId": "3798f499-4a58-4fa3-d9a5-d0a8d9d889ce"
      },
      "source": [
        "yprediciton= ann.predict(test)\r\n",
        "\r\n",
        "yprediciton = (yprediciton > 0.5)*1 \r\n",
        "\r\n",
        "ytrue = target_test\r\n",
        "\r\n",
        "from sklearn.metrics import confusion_matrix\r\n",
        "CM = confusion_matrix(ytrue,yprediciton)\r\n",
        "\r\n",
        "#CM visualization\r\n",
        "\r\n",
        "import seaborn as sns\r\n",
        "import matplotlib.pyplot as plt\r\n",
        "\r\n",
        "f, ax = plt.subplots(figsize=(5,5))\r\n",
        "sns.heatmap(CM,annot = True, linewidths=0.5,linecolor=\"white\",fmt=\".0f\",ax=ax, cmap=plt.cm.Blues)\r\n",
        "plt.xlabel(\"Prediction(Ypred)\")\r\n",
        "plt.ylabel(\"Ytrue\")\r\n",
        "plt.show()"
      ],
      "execution_count": null,
      "outputs": [
        {
          "output_type": "display_data",
          "data": {
            "image/png": "[encoded data removed]",
            "text/plain": [
              "<Figure size 360x360 with 2 Axes>"
            ]
          },
          "metadata": {
            "tags": [],
            "needs_background": "light"
          }
        }
      ]
    },
    {
      "cell_type": "markdown",
      "metadata": {
        "id": "F8knKl1WFIQP"
      },
      "source": [
        "## **7. Predictions**"
      ]
    },
    {
      "cell_type": "code",
      "metadata": {
        "id": "0t45Ix1BeSWj"
      },
      "source": [
        "# Predicting the Test set results\r\n",
        "ann_prediction_test = ann.predict(test)\r\n",
        "ann_prediction_test = (ann_prediction_test > 0.5)*1 # convert probabilities to binary output"
      ],
      "execution_count": null,
      "outputs": []
    },
    {
      "cell_type": "code",
      "metadata": {
        "id": "D4x2PA32eWer",
        "colab": {
          "base_uri": "https://localhost:8080/"
        },
        "outputId": "1d8062c3-ff70-41f7-9372-ce3d945f956c"
      },
      "source": [
        "# Compute error between predicted data and true response and display it in confusion matrix\r\n",
        "acc_test_ann1 = round(metrics.accuracy_score(target_test, ann_prediction_test) * 100, 2)\r\n",
        "print(acc_test_ann1)"
      ],
      "execution_count": null,
      "outputs": [
        {
          "output_type": "stream",
          "text": [
            "78.69\n"
          ],
          "name": "stdout"
        }
      ]
    }
  ]
}